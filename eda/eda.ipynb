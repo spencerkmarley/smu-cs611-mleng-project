{
 "cells": [
  {
   "cell_type": "code",
   "execution_count": 1,
   "metadata": {},
   "outputs": [],
   "source": [
    "import requests\n",
    "import numpy as np\n",
    "import pandas as pd\n",
    "from matplotlib import pyplot as plt\n",
    "import seaborn as sns\n",
    "import itertools"
   ]
  },
  {
   "cell_type": "code",
   "execution_count": 2,
   "metadata": {},
   "outputs": [],
   "source": [
    "query=\"2022-04-26T20:00:00\""
   ]
  },
  {
   "cell_type": "markdown",
   "metadata": {},
   "source": [
    "## Define functions\n",
    "\n",
    "Write the functions to pull data from the APIs"
   ]
  },
  {
   "cell_type": "code",
   "execution_count": 3,
   "metadata": {},
   "outputs": [],
   "source": [
    "def get_weather_data(query:str):\n",
    "    data_sets = [\"air-temperature\",\"rainfall\",\"relative-humidity\"]\n",
    "    results={}\n",
    "    for measure in data_sets:\n",
    "        URL = \"https://api.data.gov.sg/v1/environment/\"+measure\n",
    "        params={'date_time':query}\n",
    "        r=requests.get(URL,params=params)\n",
    "        results[measure]=r.json()\n",
    "    return results\n",
    "\n",
    "def get_taxi_data(query:str):\n",
    "    URL = \"https://api.data.gov.sg/v1/transport/taxi-availability\"\n",
    "    params={'date_time':query}\n",
    "    r=requests.get(URL,params=params)\n",
    "    return r.json()"
   ]
  },
  {
   "cell_type": "markdown",
   "metadata": {},
   "source": [
    "### Pull data\n",
    "\n",
    "TODO:\n",
    "\n",
    "\n",
    "\n",
    "Assign each coordinate to nearest Euclidean distance weather station\n",
    "\n",
    "Count availability for each weather station"
   ]
  },
  {
   "cell_type": "code",
   "execution_count": 63,
   "metadata": {},
   "outputs": [],
   "source": [
    "weather_data=get_weather_data(query=query)\n",
    "taxi_data=get_taxi_data(query=query)"
   ]
  },
  {
   "cell_type": "code",
   "execution_count": 64,
   "metadata": {},
   "outputs": [],
   "source": [
    "taxi_coordinates = taxi_data['features'][0]['geometry']['coordinates']\n",
    "station_dict = weather_data['air-temperature']['metadata']['stations']\n",
    "taxi_array = np.array([t[::-1] for t in taxi_coordinates]) # taxi_coordinates are reversed, need to fix\n",
    "station_array = np.array([[station_dict[i]['location']['latitude'],station_dict[i]['location']['longitude']] for i in range(len(station_dict))])"
   ]
  },
  {
   "cell_type": "code",
   "execution_count": 65,
   "metadata": {},
   "outputs": [],
   "source": [
    "cartesian_prod = itertools.product(taxi_array,station_array)\n",
    "diff = np.array([i[0]-i[1] for i in cartesian_prod])\n",
    "distance = np.linalg.norm(diff,axis=1)"
   ]
  },
  {
   "cell_type": "code",
   "execution_count": 66,
   "metadata": {},
   "outputs": [
    {
     "data": {
      "text/plain": [
       "array([[[0.24285869],\n",
       "        [0.16062869],\n",
       "        [0.34108052],\n",
       "        ...,\n",
       "        [0.132077  ],\n",
       "        [0.22426301],\n",
       "        [0.17926679]],\n",
       "\n",
       "       [[0.23698088],\n",
       "        [0.15510579],\n",
       "        [0.33647987],\n",
       "        ...,\n",
       "        [0.12829506],\n",
       "        [0.21748073],\n",
       "        [0.17245633]],\n",
       "\n",
       "       [[0.19289775],\n",
       "        [0.11343203],\n",
       "        [0.29875572],\n",
       "        ...,\n",
       "        [0.09934566],\n",
       "        [0.1714949 ],\n",
       "        [0.12677939]],\n",
       "\n",
       "       ...,\n",
       "\n",
       "       [[0.14116767],\n",
       "        [0.21439751],\n",
       "        [0.05436775],\n",
       "        ...,\n",
       "        [0.24861088],\n",
       "        [0.22040777],\n",
       "        [0.24747844]],\n",
       "\n",
       "       [[0.14126218],\n",
       "        [0.219976  ],\n",
       "        [0.0793225 ],\n",
       "        ...,\n",
       "        [0.25907806],\n",
       "        [0.21212831],\n",
       "        [0.24321349]],\n",
       "\n",
       "       [[0.15308234],\n",
       "        [0.23014535],\n",
       "        [0.07746946],\n",
       "        ...,\n",
       "        [0.26725287],\n",
       "        [0.22606998],\n",
       "        [0.25640292]]])"
      ]
     },
     "execution_count": 66,
     "metadata": {},
     "output_type": "execute_result"
    }
   ],
   "source": [
    "distance_matrix = distance.reshape((len(taxi_array),len(station_array),-1))\n",
    "distance_matrix"
   ]
  },
  {
   "cell_type": "markdown",
   "metadata": {},
   "source": [
    "TODO: get nearest weather station for each taxi"
   ]
  },
  {
   "cell_type": "code",
   "execution_count": null,
   "metadata": {},
   "outputs": [],
   "source": []
  },
  {
   "cell_type": "code",
   "execution_count": null,
   "metadata": {},
   "outputs": [],
   "source": [
    "weather_data['air-temperature']"
   ]
  },
  {
   "cell_type": "code",
   "execution_count": null,
   "metadata": {},
   "outputs": [],
   "source": [
    "print(weather_data['air-temperature']['metadata'])\n",
    "print(weather_data['air-temperature']['items'])\n",
    "print(weather_data['air-temperature']['api_info'])"
   ]
  },
  {
   "cell_type": "code",
   "execution_count": null,
   "metadata": {},
   "outputs": [],
   "source": [
    "weather_data['rainfall']"
   ]
  },
  {
   "cell_type": "code",
   "execution_count": null,
   "metadata": {},
   "outputs": [],
   "source": [
    "weather_data['relative-humidity']"
   ]
  },
  {
   "cell_type": "markdown",
   "metadata": {},
   "source": [
    "# Modeling\n",
    "\n",
    "Try different time lag for forecasting availability. 1 min, 15 min, 30 min etc."
   ]
  },
  {
   "cell_type": "code",
   "execution_count": null,
   "metadata": {},
   "outputs": [],
   "source": []
  },
  {
   "cell_type": "markdown",
   "metadata": {},
   "source": [
    "# Serving Prediction\n",
    "\n",
    "TODO: Decide on what we are trying to predict"
   ]
  },
  {
   "cell_type": "code",
   "execution_count": null,
   "metadata": {},
   "outputs": [],
   "source": []
  }
 ],
 "metadata": {
  "interpreter": {
   "hash": "31f2aee4e71d21fbe5cf8b01ff0e069b9275f58929596ceb00d14d90e3e16cd6"
  },
  "kernelspec": {
   "display_name": "Python 3",
   "language": "python",
   "name": "python3"
  },
  "language_info": {
   "codemirror_mode": {
    "name": "ipython",
    "version": 3
   },
   "file_extension": ".py",
   "mimetype": "text/x-python",
   "name": "python",
   "nbconvert_exporter": "python",
   "pygments_lexer": "ipython3",
   "version": "3.8.10"
  },
  "orig_nbformat": 4
 },
 "nbformat": 4,
 "nbformat_minor": 2
}

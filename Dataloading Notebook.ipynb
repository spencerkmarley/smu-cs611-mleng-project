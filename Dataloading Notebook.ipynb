{
 "cells": [
  {
   "cell_type": "markdown",
   "id": "bd24cbd1-f991-4b66-afd0-046095f5e79a",
   "metadata": {
    "tags": []
   },
   "source": [
    "# Google Cloud Storage Access Notebook\n",
    "\n",
    "This notebook contains code for the prototyping of loading to bigquery via Google Cloud Storage.\n",
    "\n",
    "Important! Clone the [project repository](https://github.com/spencermarley/smu-cs611-mleng-project.git) in order to access the parsing functions.\n",
    "\n",
    "## Section 1 - Imports"
   ]
  },
  {
   "cell_type": "code",
   "execution_count": 1,
   "id": "34886aed-45a5-4ed2-a046-25edfeca87db",
   "metadata": {},
   "outputs": [],
   "source": [
    "import gcsfs\n",
    "import sys\n",
    "import os\n",
    "import json\n",
    "import math\n",
    "import itertools\n",
    "from collections import Counter\n",
    "import re\n",
    "\n",
    "import datetime\n",
    "from datetime import date, timedelta\n",
    "\n",
    "import pandas as pd\n",
    "import geopandas as gpd\n",
    "from matplotlib import pyplot as plt\n",
    "import seaborn as sns\n",
    "\n",
    "from shapely import wkt\n",
    "from shapely.ops import nearest_points\n",
    "\n",
    "import warnings\n",
    "from tqdm import tqdm\n",
    "import joblib\n",
    "warnings.filterwarnings('ignore')\n",
    "\n",
    "from src import jsonParser\n",
    "from src import assignment"
   ]
  },
  {
   "cell_type": "markdown",
   "id": "ce99af2d-0f08-4bc2-9321-955693e7e1a3",
   "metadata": {},
   "source": [
    "## Section 2 - Bucket Connection Setup"
   ]
  },
  {
   "cell_type": "code",
   "execution_count": 2,
   "id": "20c218c7-da9c-4baa-8d40-08594382d523",
   "metadata": {},
   "outputs": [],
   "source": [
    "project = 'ml-eng-cs611-group-project'\n",
    "nea_bucket = 'ml-eng-cs611-group-project-nea'\n",
    "taxi_bucket = 'ml-eng-cs611-group-project-taxis'\n",
    "dataset_id='taxi_dataset'\n",
    "measure = 'rainfall'\n",
    "measures = ['rainfall','air-temperature','relative-humidity']\n",
    "\n",
    "fs = gcsfs.GCSFileSystem(project=project)\n",
    "nea_filenames = fs.glob('/'.join([nea_bucket,measure,\"*\"]))"
   ]
  },
  {
   "cell_type": "code",
   "execution_count": 3,
   "id": "5251c510-79a6-41dc-8c65-5ceb5f5843ef",
   "metadata": {},
   "outputs": [],
   "source": [
    "# nea_filenames # 'ml-eng-cs611-group-project-nea/rainfall/2022-05-24T22-21-01.json' ..."
   ]
  },
  {
   "cell_type": "code",
   "execution_count": 4,
   "id": "80cf1a90-b036-4a67-b7a8-f56378c03f87",
   "metadata": {},
   "outputs": [],
   "source": [
    "taxi_filenames = fs.glob('/'.join([taxi_bucket,'taxis',\"*\"]))"
   ]
  },
  {
   "cell_type": "code",
   "execution_count": 5,
   "id": "007c9095-2846-425a-ae06-88138b97a05c",
   "metadata": {},
   "outputs": [],
   "source": [
    "# taxi_filenames # 'ml-eng-cs611-group-project-taxis/taxis/2022-05-27T14-00-03.json' ..."
   ]
  },
  {
   "cell_type": "markdown",
   "id": "fbd93884-80fc-4045-897c-b795f70683a9",
   "metadata": {},
   "source": [
    "## Section 3a - Access NEA files\n",
    "\n",
    "We will read the NEA `.json` files and append all measures to a single dict"
   ]
  },
  {
   "cell_type": "code",
   "execution_count": 6,
   "id": "fe85d30e-6bdb-4206-963c-151061569aad",
   "metadata": {},
   "outputs": [],
   "source": [
    "fs = gcsfs.GCSFileSystem(project=project)\n",
    "\n",
    "nea_data = {}\n",
    "\n",
    "for measure in measures:\n",
    "    filenames = fs.glob('/'.join([nea_bucket,measure,\"*\"]))\n",
    "    file = filenames[0]\n",
    "    parser = jsonParser.jsonParser(fs)\n",
    "    \n",
    "    items = parser.get_items(file,measure)    \n",
    "    metadata = parser.get_metadata(file,measure)\n",
    "    \n",
    "    nea_data[measure]={'items':items,'metadata':metadata}"
   ]
  },
  {
   "cell_type": "code",
   "execution_count": 7,
   "id": "d6661122-ca8a-403a-b229-3c78577595fd",
   "metadata": {},
   "outputs": [
    {
     "data": {
      "text/plain": [
       "66"
      ]
     },
     "execution_count": 7,
     "metadata": {},
     "output_type": "execute_result"
    }
   ],
   "source": [
    "len(nea_data['rainfall']['items'])"
   ]
  },
  {
   "cell_type": "code",
   "execution_count": 8,
   "id": "a2a2738d-487f-41f5-8cdd-f94cf081d7ec",
   "metadata": {},
   "outputs": [
    {
     "data": {
      "text/html": [
       "<div>\n",
       "<style scoped>\n",
       "    .dataframe tbody tr th:only-of-type {\n",
       "        vertical-align: middle;\n",
       "    }\n",
       "\n",
       "    .dataframe tbody tr th {\n",
       "        vertical-align: top;\n",
       "    }\n",
       "\n",
       "    .dataframe thead th {\n",
       "        text-align: right;\n",
       "    }\n",
       "</style>\n",
       "<table border=\"1\" class=\"dataframe\">\n",
       "  <thead>\n",
       "    <tr style=\"text-align: right;\">\n",
       "      <th></th>\n",
       "      <th>timestamp</th>\n",
       "      <th>station_id</th>\n",
       "      <th>value</th>\n",
       "      <th>Description</th>\n",
       "    </tr>\n",
       "  </thead>\n",
       "  <tbody>\n",
       "    <tr>\n",
       "      <th>63</th>\n",
       "      <td>2022-05-24 22:00:00-01:00</td>\n",
       "      <td>S116</td>\n",
       "      <td>0.0</td>\n",
       "      <td>rainfall</td>\n",
       "    </tr>\n",
       "    <tr>\n",
       "      <th>64</th>\n",
       "      <td>2022-05-24 22:00:00-01:00</td>\n",
       "      <td>S104</td>\n",
       "      <td>0.0</td>\n",
       "      <td>rainfall</td>\n",
       "    </tr>\n",
       "    <tr>\n",
       "      <th>65</th>\n",
       "      <td>2022-05-24 22:00:00-01:00</td>\n",
       "      <td>S100</td>\n",
       "      <td>0.0</td>\n",
       "      <td>rainfall</td>\n",
       "    </tr>\n",
       "  </tbody>\n",
       "</table>\n",
       "</div>"
      ],
      "text/plain": [
       "                   timestamp station_id  value Description\n",
       "63 2022-05-24 22:00:00-01:00       S116    0.0    rainfall\n",
       "64 2022-05-24 22:00:00-01:00       S104    0.0    rainfall\n",
       "65 2022-05-24 22:00:00-01:00       S100    0.0    rainfall"
      ]
     },
     "execution_count": 8,
     "metadata": {},
     "output_type": "execute_result"
    }
   ],
   "source": [
    "nea_data['rainfall']['items'].tail(3)"
   ]
  },
  {
   "cell_type": "markdown",
   "id": "a9e98d31-1596-4ebb-a2b9-9f003896b509",
   "metadata": {},
   "source": [
    "Now we load the taxi data"
   ]
  },
  {
   "cell_type": "code",
   "execution_count": 9,
   "id": "49dc2fcb-1176-4ada-ad49-3800450030dd",
   "metadata": {},
   "outputs": [],
   "source": [
    "taxi_data = parser.load_taxi_data(taxi_filenames[0])"
   ]
  },
  {
   "cell_type": "code",
   "execution_count": 10,
   "id": "eed8aeff-5cd2-43fa-9f23-2c9a705e6033",
   "metadata": {},
   "outputs": [
    {
     "data": {
      "text/html": [
       "<div>\n",
       "<style scoped>\n",
       "    .dataframe tbody tr th:only-of-type {\n",
       "        vertical-align: middle;\n",
       "    }\n",
       "\n",
       "    .dataframe tbody tr th {\n",
       "        vertical-align: top;\n",
       "    }\n",
       "\n",
       "    .dataframe thead th {\n",
       "        text-align: right;\n",
       "    }\n",
       "</style>\n",
       "<table border=\"1\" class=\"dataframe\">\n",
       "  <thead>\n",
       "    <tr style=\"text-align: right;\">\n",
       "      <th></th>\n",
       "      <th>timestamp</th>\n",
       "      <th>longitude</th>\n",
       "      <th>latitude</th>\n",
       "    </tr>\n",
       "  </thead>\n",
       "  <tbody>\n",
       "    <tr>\n",
       "      <th>0</th>\n",
       "      <td>2022-05-27 14:00:00-03:00</td>\n",
       "      <td>103.624620</td>\n",
       "      <td>1.300000</td>\n",
       "    </tr>\n",
       "    <tr>\n",
       "      <th>1</th>\n",
       "      <td>2022-05-27 14:00:00-03:00</td>\n",
       "      <td>103.658034</td>\n",
       "      <td>1.312330</td>\n",
       "    </tr>\n",
       "    <tr>\n",
       "      <th>2</th>\n",
       "      <td>2022-05-27 14:00:00-03:00</td>\n",
       "      <td>103.669129</td>\n",
       "      <td>1.325566</td>\n",
       "    </tr>\n",
       "    <tr>\n",
       "      <th>3</th>\n",
       "      <td>2022-05-27 14:00:00-03:00</td>\n",
       "      <td>103.679667</td>\n",
       "      <td>1.326507</td>\n",
       "    </tr>\n",
       "    <tr>\n",
       "      <th>4</th>\n",
       "      <td>2022-05-27 14:00:00-03:00</td>\n",
       "      <td>103.679980</td>\n",
       "      <td>1.314830</td>\n",
       "    </tr>\n",
       "    <tr>\n",
       "      <th>...</th>\n",
       "      <td>...</td>\n",
       "      <td>...</td>\n",
       "      <td>...</td>\n",
       "    </tr>\n",
       "    <tr>\n",
       "      <th>1017</th>\n",
       "      <td>2022-05-27 14:00:00-03:00</td>\n",
       "      <td>103.988921</td>\n",
       "      <td>1.357636</td>\n",
       "    </tr>\n",
       "    <tr>\n",
       "      <th>1018</th>\n",
       "      <td>2022-05-27 14:00:00-03:00</td>\n",
       "      <td>103.989799</td>\n",
       "      <td>1.358836</td>\n",
       "    </tr>\n",
       "    <tr>\n",
       "      <th>1019</th>\n",
       "      <td>2022-05-27 14:00:00-03:00</td>\n",
       "      <td>103.989860</td>\n",
       "      <td>1.360000</td>\n",
       "    </tr>\n",
       "    <tr>\n",
       "      <th>1020</th>\n",
       "      <td>2022-05-27 14:00:00-03:00</td>\n",
       "      <td>103.989890</td>\n",
       "      <td>1.360000</td>\n",
       "    </tr>\n",
       "    <tr>\n",
       "      <th>1021</th>\n",
       "      <td>2022-05-27 14:00:00-03:00</td>\n",
       "      <td>103.989950</td>\n",
       "      <td>1.360000</td>\n",
       "    </tr>\n",
       "  </tbody>\n",
       "</table>\n",
       "<p>1022 rows × 3 columns</p>\n",
       "</div>"
      ],
      "text/plain": [
       "                     timestamp   longitude  latitude\n",
       "0    2022-05-27 14:00:00-03:00  103.624620  1.300000\n",
       "1    2022-05-27 14:00:00-03:00  103.658034  1.312330\n",
       "2    2022-05-27 14:00:00-03:00  103.669129  1.325566\n",
       "3    2022-05-27 14:00:00-03:00  103.679667  1.326507\n",
       "4    2022-05-27 14:00:00-03:00  103.679980  1.314830\n",
       "...                        ...         ...       ...\n",
       "1017 2022-05-27 14:00:00-03:00  103.988921  1.357636\n",
       "1018 2022-05-27 14:00:00-03:00  103.989799  1.358836\n",
       "1019 2022-05-27 14:00:00-03:00  103.989860  1.360000\n",
       "1020 2022-05-27 14:00:00-03:00  103.989890  1.360000\n",
       "1021 2022-05-27 14:00:00-03:00  103.989950  1.360000\n",
       "\n",
       "[1022 rows x 3 columns]"
      ]
     },
     "execution_count": 10,
     "metadata": {},
     "output_type": "execute_result"
    }
   ],
   "source": [
    "taxi_data"
   ]
  },
  {
   "cell_type": "markdown",
   "id": "bc623614-2bca-417a-b089-3c224dc32525",
   "metadata": {},
   "source": [
    "## Section 4 - Write to BigQuery\n",
    "\n",
    "We have created 6 tables in Bigquery:\n",
    "\n",
    "- `air-temperature-items`\n",
    "- `air-temperature-metadata`\n",
    "- `rainfall-items`\n",
    "- `rainfall-metadata`\n",
    "- `relative-humidity-items`\n",
    "- `relative-humidity-metadata`\n",
    "\n",
    "First, we write the corresponding measure metadata and items to the correct table"
   ]
  },
  {
   "cell_type": "code",
   "execution_count": 8,
   "id": "e37c8c4f-f444-401b-9120-3e46d117336c",
   "metadata": {},
   "outputs": [
    {
     "name": "stderr",
     "output_type": "stream",
     "text": [
      "100%|██████████| 1/1 [00:00<00:00, 9709.04it/s]\n",
      "100%|██████████| 1/1 [00:00<00:00, 10837.99it/s]\n",
      "100%|██████████| 1/1 [00:00<00:00, 10618.49it/s]\n",
      "100%|██████████| 1/1 [00:00<00:00, 9754.20it/s]\n",
      "100%|██████████| 1/1 [00:00<00:00, 11586.48it/s]\n",
      "100%|██████████| 1/1 [00:00<00:00, 10922.67it/s]\n"
     ]
    }
   ],
   "source": [
    "for measure in measures:\n",
    "    print(f\"Writing items for {measure}\")\n",
    "    nea_data[measure]['items'].to_gbq(dataset_id+'.'+measure+'-items',project,chunksize=None,if_exists='append')\n",
    "    print(f\"Writing metadata for {measure}\")\n",
    "    nea_data[measure]['metadata'].to_gbq(dataset_id+'.'+measure+'-metadata',project,chunksize=None,if_exists='append')"
   ]
  },
  {
   "cell_type": "markdown",
   "id": "72f2c892-48d8-4264-8ac2-48c18d21e105",
   "metadata": {},
   "source": [
    "Next, we write the taxi data"
   ]
  },
  {
   "cell_type": "code",
   "execution_count": 9,
   "id": "20ddbc6d-1ed4-49b1-8ee6-21ceeab7d238",
   "metadata": {},
   "outputs": [
    {
     "name": "stderr",
     "output_type": "stream",
     "text": [
      "100%|██████████| 1/1 [00:00<00:00, 9986.44it/s]\n"
     ]
    }
   ],
   "source": [
    "taxi_data.to_gbq(dataset_id+'.'+'taxi-availability',project,chunksize=None,if_exists='append')"
   ]
  },
  {
   "cell_type": "markdown",
   "id": "1cd81be0-b9a3-41c3-8033-72cb614bdb33",
   "metadata": {
    "tags": []
   },
   "source": [
    "# Load most recent file"
   ]
  },
  {
   "cell_type": "code",
   "execution_count": 6,
   "id": "dc795974-0e25-4a34-9137-de092d77d7c5",
   "metadata": {},
   "outputs": [
    {
     "name": "stdout",
     "output_type": "stream",
     "text": [
      "Current processing ml-eng-cs611-group-project-nea/rainfall/2022-05-24T22-21-01.json\n",
      "Writing rainfall items to taxi_dataset.rainfall-items\n"
     ]
    },
    {
     "name": "stderr",
     "output_type": "stream",
     "text": [
      "100%|██████████| 1/1 [00:00<00:00, 12018.06it/s]\n"
     ]
    },
    {
     "name": "stdout",
     "output_type": "stream",
     "text": [
      "Writing rainfall metadata to taxi_dataset.rainfall-metadata\n"
     ]
    },
    {
     "name": "stderr",
     "output_type": "stream",
     "text": [
      "100%|██████████| 1/1 [00:00<00:00, 6078.70it/s]\n"
     ]
    },
    {
     "name": "stdout",
     "output_type": "stream",
     "text": [
      "Current processing ml-eng-cs611-group-project-nea/air-temperature/2022-05-24T22-21-01.json\n",
      "Writing air-temperature items to taxi_dataset.air-temperature-items\n"
     ]
    },
    {
     "name": "stderr",
     "output_type": "stream",
     "text": [
      "100%|██████████| 1/1 [00:00<00:00, 12483.05it/s]\n"
     ]
    },
    {
     "name": "stdout",
     "output_type": "stream",
     "text": [
      "Writing air-temperature metadata to taxi_dataset.air-temperature-metadata\n"
     ]
    },
    {
     "name": "stderr",
     "output_type": "stream",
     "text": [
      "100%|██████████| 1/1 [00:00<00:00, 9576.04it/s]\n"
     ]
    },
    {
     "name": "stdout",
     "output_type": "stream",
     "text": [
      "Current processing ml-eng-cs611-group-project-nea/relative-humidity/2022-05-24T22-21-01.json\n",
      "Writing relative-humidity items to taxi_dataset.relative-humidity-items\n"
     ]
    },
    {
     "name": "stderr",
     "output_type": "stream",
     "text": [
      "100%|██████████| 1/1 [00:00<00:00, 11428.62it/s]\n"
     ]
    },
    {
     "name": "stdout",
     "output_type": "stream",
     "text": [
      "Writing relative-humidity metadata to taxi_dataset.relative-humidity-metadata\n"
     ]
    },
    {
     "name": "stderr",
     "output_type": "stream",
     "text": [
      "100%|██████████| 1/1 [00:00<00:00, 9098.27it/s]\n"
     ]
    }
   ],
   "source": [
    "import pandas as pd\n",
    "import gcsfs\n",
    "import sys\n",
    "import json\n",
    "\n",
    "sys.path.append('smu-cs611-mleng-project')\n",
    "from src import jsonParser\n",
    "\n",
    "def load_nea_to_gbq(project:str,bucket:str,dataset_id:str,measure:str,filename:str):\n",
    "    '''Load a single json \n",
    "    Args:\n",
    "        project:str:\n",
    "        bucket\n",
    "        dataset_id\n",
    "        measure\n",
    "        filename\n",
    "    '''\n",
    "    fs = gcsfs.GCSFileSystem(project=project)\n",
    "    filenames = fs.glob('/'.join([bucket,measure,\"*\"]))\n",
    "    current_file=filenames[-1]\n",
    "    print(f\"Current processing {current_file}\")\n",
    "\n",
    "    parser = jsonParser.jsonParser(fs)\n",
    "    items = parser.get_items(current_file,measure)\n",
    "    metadata = parser.get_metadata(current_file,measure)\n",
    "\n",
    "    item_table = dataset_id+'.'+measure+'-items'\n",
    "    metadata_table = dataset_id+'.'+measure+'-metadata'\n",
    "\n",
    "    print(f\"Writing {measure} items to {item_table}\")\n",
    "    items.to_gbq(item_table,project,chunksize=None,if_exists='append')\n",
    "\n",
    "    print(f\"Writing {measure} metadata to {metadata_table}\")\n",
    "    metadata.to_gbq(metadata_table,project,chunksize=None,if_exists='append')\n",
    "\n",
    "project=params['project']\n",
    "bucket=params['bucket']\n",
    "dataset_id=params['dataset_id']\n",
    "    \n",
    "\n",
    "if __name__ == '__main__':\n",
    "    import argparse\n",
    "    \n",
    "    parser = argparse.ArgumentParser(description='Reads a single NEA JSON file to GBQ')    \n",
    "    parser.add_argument('--project','-p', default='ml-eng-cs611-group-project', type=str, help='GCP project name i.e. ml-eng-cs611-group-project')\n",
    "    parser.add_argument('--bucket','-b', default='ml-eng-cs611-group-project-nea', type=str, help='GCS bucket name i.e. ml-eng-cs611-group-project-nea')\n",
    "    parser.add_argument('--dataset_id','-d', default='taxi_dataset', type=str, help='GCS bucket name i.e. ml-eng-cs611-group-project-nea')\n",
    "    parser.add_argument('--measure','-m', type=str, help='NEA measure i.e. air-temperature,relative-humidity or rainfall')\n",
    "    parser.add_argument('--filename','-f', type=str, help='If provided, file to load')\n",
    "    parser.add_argument('--date','-d', type=str, help='YYYY-MM-DD format. If provided, load data up to this date')\n",
    "    args = parser.parse_args()\n",
    "    \n",
    "    project = args.project\n",
    "    bucket = args.bucket\n",
    "    dataset_id = args.dataset_id\n",
    "    measure = args.measure\n",
    "    filename = args.filename\n",
    "    date = args.date\n",
    "    "
   ]
  },
  {
   "cell_type": "code",
   "execution_count": 7,
   "id": "831685e7-05e6-43f5-bbdc-5a3785389925",
   "metadata": {},
   "outputs": [],
   "source": [
    "stop_file = '2022-06-04T00-00-06.json'"
   ]
  },
  {
   "cell_type": "code",
   "execution_count": 8,
   "id": "8f055019-43f8-4241-99e8-d073834d3c48",
   "metadata": {},
   "outputs": [
    {
     "data": {
      "text/plain": [
       "'2022-06-04'"
      ]
     },
     "execution_count": 8,
     "metadata": {},
     "output_type": "execute_result"
    }
   ],
   "source": [
    "stop_file[:10]"
   ]
  },
  {
   "cell_type": "markdown",
   "id": "cef5dc58-e177-4ccd-9983-a88c1927137a",
   "metadata": {},
   "source": [
    "# Batch upload until date"
   ]
  },
  {
   "cell_type": "code",
   "execution_count": null,
   "id": "30147d36-8de8-47e4-a03a-5e2167339424",
   "metadata": {},
   "outputs": [
    {
     "name": "stdout",
     "output_type": "stream",
     "text": [
      "Current processing ml-eng-cs611-group-project-nea/relative-humidity/2022-05-24T22-21-01.json\n",
      "Writing rainfall items to taxi_dataset.rainfall-items\n"
     ]
    },
    {
     "name": "stderr",
     "output_type": "stream",
     "text": [
      "100%|██████████| 1/1 [00:00<00:00, 9058.97it/s]\n"
     ]
    },
    {
     "name": "stdout",
     "output_type": "stream",
     "text": [
      "Writing rainfall metadata to taxi_dataset.rainfall-metadata\n"
     ]
    },
    {
     "name": "stderr",
     "output_type": "stream",
     "text": [
      "100%|██████████| 1/1 [00:00<00:00, 11214.72it/s]\n"
     ]
    },
    {
     "name": "stdout",
     "output_type": "stream",
     "text": [
      "Current processing ml-eng-cs611-group-project-nea/relative-humidity/2022-05-24T22-30-02.json\n",
      "Writing rainfall items to taxi_dataset.rainfall-items\n"
     ]
    },
    {
     "name": "stderr",
     "output_type": "stream",
     "text": [
      "100%|██████████| 1/1 [00:00<00:00, 9279.43it/s]\n"
     ]
    },
    {
     "name": "stdout",
     "output_type": "stream",
     "text": [
      "Writing rainfall metadata to taxi_dataset.rainfall-metadata\n"
     ]
    },
    {
     "name": "stderr",
     "output_type": "stream",
     "text": [
      "100%|██████████| 1/1 [00:00<00:00, 8559.80it/s]\n"
     ]
    },
    {
     "name": "stdout",
     "output_type": "stream",
     "text": [
      "Current processing ml-eng-cs611-group-project-nea/relative-humidity/2022-05-24T22-45-01.json\n",
      "Writing rainfall items to taxi_dataset.rainfall-items\n"
     ]
    },
    {
     "name": "stderr",
     "output_type": "stream",
     "text": [
      "100%|██████████| 1/1 [00:00<00:00, 10951.19it/s]\n"
     ]
    },
    {
     "name": "stdout",
     "output_type": "stream",
     "text": [
      "Writing rainfall metadata to taxi_dataset.rainfall-metadata\n"
     ]
    },
    {
     "name": "stderr",
     "output_type": "stream",
     "text": [
      "100%|██████████| 1/1 [00:00<00:00, 9709.04it/s]\n"
     ]
    },
    {
     "name": "stdout",
     "output_type": "stream",
     "text": [
      "Current processing ml-eng-cs611-group-project-nea/relative-humidity/2022-05-24T23-00-02.json\n",
      "Writing rainfall items to taxi_dataset.rainfall-items\n"
     ]
    },
    {
     "name": "stderr",
     "output_type": "stream",
     "text": [
      "100%|██████████| 1/1 [00:00<00:00, 11397.57it/s]\n"
     ]
    },
    {
     "name": "stdout",
     "output_type": "stream",
     "text": [
      "Writing rainfall metadata to taxi_dataset.rainfall-metadata\n"
     ]
    },
    {
     "name": "stderr",
     "output_type": "stream",
     "text": [
      "100%|██████████| 1/1 [00:00<00:00, 10951.19it/s]\n"
     ]
    },
    {
     "name": "stdout",
     "output_type": "stream",
     "text": [
      "Current processing ml-eng-cs611-group-project-nea/relative-humidity/2022-05-24T23-15-02.json\n",
      "Writing rainfall items to taxi_dataset.rainfall-items\n"
     ]
    },
    {
     "name": "stderr",
     "output_type": "stream",
     "text": [
      "100%|██████████| 1/1 [00:00<00:00, 10782.27it/s]\n"
     ]
    },
    {
     "name": "stdout",
     "output_type": "stream",
     "text": [
      "Writing rainfall metadata to taxi_dataset.rainfall-metadata\n"
     ]
    },
    {
     "name": "stderr",
     "output_type": "stream",
     "text": [
      "100%|██████████| 1/1 [00:00<00:00, 11096.04it/s]\n"
     ]
    },
    {
     "name": "stdout",
     "output_type": "stream",
     "text": [
      "Current processing ml-eng-cs611-group-project-nea/relative-humidity/2022-05-24T23-30-05.json\n",
      "Writing rainfall items to taxi_dataset.rainfall-items\n"
     ]
    },
    {
     "name": "stderr",
     "output_type": "stream",
     "text": [
      "100%|██████████| 1/1 [00:00<00:00, 9709.04it/s]\n"
     ]
    },
    {
     "name": "stdout",
     "output_type": "stream",
     "text": [
      "Writing rainfall metadata to taxi_dataset.rainfall-metadata\n"
     ]
    },
    {
     "name": "stderr",
     "output_type": "stream",
     "text": [
      "100%|██████████| 1/1 [00:00<00:00, 11491.24it/s]\n"
     ]
    },
    {
     "name": "stdout",
     "output_type": "stream",
     "text": [
      "Current processing ml-eng-cs611-group-project-nea/relative-humidity/2022-05-24T23-45-02.json\n",
      "Writing rainfall items to taxi_dataset.rainfall-items\n"
     ]
    },
    {
     "name": "stderr",
     "output_type": "stream",
     "text": [
      "100%|██████████| 1/1 [00:00<00:00, 10155.70it/s]\n"
     ]
    },
    {
     "name": "stdout",
     "output_type": "stream",
     "text": [
      "Writing rainfall metadata to taxi_dataset.rainfall-metadata\n"
     ]
    },
    {
     "name": "stderr",
     "output_type": "stream",
     "text": [
      "100%|██████████| 1/1 [00:00<00:00, 11366.68it/s]\n"
     ]
    },
    {
     "name": "stdout",
     "output_type": "stream",
     "text": [
      "Current processing ml-eng-cs611-group-project-nea/relative-humidity/2022-05-25T00-00-02.json\n",
      "Writing rainfall items to taxi_dataset.rainfall-items\n"
     ]
    },
    {
     "name": "stderr",
     "output_type": "stream",
     "text": [
      "100%|██████████| 1/1 [00:00<00:00, 10230.01it/s]\n"
     ]
    },
    {
     "name": "stdout",
     "output_type": "stream",
     "text": [
      "Writing rainfall metadata to taxi_dataset.rainfall-metadata\n"
     ]
    },
    {
     "name": "stderr",
     "output_type": "stream",
     "text": [
      "100%|██████████| 1/1 [00:00<00:00, 6213.78it/s]\n"
     ]
    },
    {
     "name": "stdout",
     "output_type": "stream",
     "text": [
      "Current processing ml-eng-cs611-group-project-nea/relative-humidity/2022-05-25T00-15-01.json\n",
      "Writing rainfall items to taxi_dataset.rainfall-items\n"
     ]
    },
    {
     "name": "stderr",
     "output_type": "stream",
     "text": [
      "100%|██████████| 1/1 [00:00<00:00, 10672.53it/s]\n"
     ]
    },
    {
     "name": "stdout",
     "output_type": "stream",
     "text": [
      "Writing rainfall metadata to taxi_dataset.rainfall-metadata\n"
     ]
    },
    {
     "name": "stderr",
     "output_type": "stream",
     "text": [
      "100%|██████████| 1/1 [00:00<00:00, 10837.99it/s]\n"
     ]
    },
    {
     "name": "stdout",
     "output_type": "stream",
     "text": [
      "Current processing ml-eng-cs611-group-project-nea/relative-humidity/2022-05-25T00-30-02.json\n",
      "Writing rainfall items to taxi_dataset.rainfall-items\n"
     ]
    },
    {
     "name": "stderr",
     "output_type": "stream",
     "text": [
      "100%|██████████| 1/1 [00:00<00:00, 10230.01it/s]\n"
     ]
    },
    {
     "name": "stdout",
     "output_type": "stream",
     "text": [
      "Writing rainfall metadata to taxi_dataset.rainfall-metadata\n"
     ]
    },
    {
     "name": "stderr",
     "output_type": "stream",
     "text": [
      "100%|██████████| 1/1 [00:00<00:00, 10672.53it/s]\n"
     ]
    },
    {
     "name": "stdout",
     "output_type": "stream",
     "text": [
      "Current processing ml-eng-cs611-group-project-nea/relative-humidity/2022-05-25T00-45-02.json\n",
      "Writing rainfall items to taxi_dataset.rainfall-items\n"
     ]
    },
    {
     "name": "stderr",
     "output_type": "stream",
     "text": [
      "100%|██████████| 1/1 [00:00<00:00, 8128.50it/s]\n"
     ]
    },
    {
     "name": "stdout",
     "output_type": "stream",
     "text": [
      "Writing rainfall metadata to taxi_dataset.rainfall-metadata\n"
     ]
    },
    {
     "name": "stderr",
     "output_type": "stream",
     "text": [
      "100%|██████████| 1/1 [00:00<00:00, 10979.85it/s]\n"
     ]
    },
    {
     "name": "stdout",
     "output_type": "stream",
     "text": [
      "Current processing ml-eng-cs611-group-project-nea/relative-humidity/2022-05-25T01-00-01.json\n",
      "Writing rainfall items to taxi_dataset.rainfall-items\n"
     ]
    },
    {
     "name": "stderr",
     "output_type": "stream",
     "text": [
      "100%|██████████| 1/1 [00:00<00:00, 8081.51it/s]\n"
     ]
    },
    {
     "name": "stdout",
     "output_type": "stream",
     "text": [
      "Writing rainfall metadata to taxi_dataset.rainfall-metadata\n"
     ]
    },
    {
     "name": "stderr",
     "output_type": "stream",
     "text": [
      "100%|██████████| 1/1 [00:00<00:00, 7319.90it/s]\n"
     ]
    },
    {
     "name": "stdout",
     "output_type": "stream",
     "text": [
      "Current processing ml-eng-cs611-group-project-nea/relative-humidity/2022-05-25T01-15-02.json\n",
      "Writing rainfall items to taxi_dataset.rainfall-items\n"
     ]
    },
    {
     "name": "stderr",
     "output_type": "stream",
     "text": [
      "100%|██████████| 1/1 [00:00<00:00, 9754.20it/s]\n"
     ]
    },
    {
     "name": "stdout",
     "output_type": "stream",
     "text": [
      "Writing rainfall metadata to taxi_dataset.rainfall-metadata\n"
     ]
    },
    {
     "name": "stderr",
     "output_type": "stream",
     "text": [
      "100%|██████████| 1/1 [00:00<00:00, 8981.38it/s]\n"
     ]
    },
    {
     "name": "stdout",
     "output_type": "stream",
     "text": [
      "Current processing ml-eng-cs611-group-project-nea/relative-humidity/2022-05-25T01-30-02.json\n",
      "Writing rainfall items to taxi_dataset.rainfall-items\n"
     ]
    },
    {
     "name": "stderr",
     "output_type": "stream",
     "text": [
      "100%|██████████| 1/1 [00:00<00:00, 11125.47it/s]\n"
     ]
    },
    {
     "name": "stdout",
     "output_type": "stream",
     "text": [
      "Writing rainfall metadata to taxi_dataset.rainfall-metadata\n"
     ]
    },
    {
     "name": "stderr",
     "output_type": "stream",
     "text": [
      "100%|██████████| 1/1 [00:00<00:00, 9892.23it/s]\n"
     ]
    },
    {
     "name": "stdout",
     "output_type": "stream",
     "text": [
      "Current processing ml-eng-cs611-group-project-nea/relative-humidity/2022-05-25T01-45-02.json\n",
      "Writing rainfall items to taxi_dataset.rainfall-items\n"
     ]
    },
    {
     "name": "stderr",
     "output_type": "stream",
     "text": [
      "100%|██████████| 1/1 [00:00<00:00, 9597.95it/s]\n"
     ]
    },
    {
     "name": "stdout",
     "output_type": "stream",
     "text": [
      "Writing rainfall metadata to taxi_dataset.rainfall-metadata\n"
     ]
    },
    {
     "name": "stderr",
     "output_type": "stream",
     "text": [
      "100%|██████████| 1/1 [00:00<00:00, 10810.06it/s]\n"
     ]
    },
    {
     "name": "stdout",
     "output_type": "stream",
     "text": [
      "Current processing ml-eng-cs611-group-project-nea/relative-humidity/2022-05-25T02-00-02.json\n",
      "Writing rainfall items to taxi_dataset.rainfall-items\n"
     ]
    },
    {
     "name": "stderr",
     "output_type": "stream",
     "text": [
      "100%|██████████| 1/1 [00:00<00:00, 11066.77it/s]\n"
     ]
    },
    {
     "name": "stdout",
     "output_type": "stream",
     "text": [
      "Writing rainfall metadata to taxi_dataset.rainfall-metadata\n"
     ]
    },
    {
     "name": "stderr",
     "output_type": "stream",
     "text": [
      "100%|██████████| 1/1 [00:00<00:00, 9489.38it/s]\n"
     ]
    },
    {
     "name": "stdout",
     "output_type": "stream",
     "text": [
      "Current processing ml-eng-cs611-group-project-nea/relative-humidity/2022-05-25T02-15-02.json\n",
      "Writing rainfall items to taxi_dataset.rainfall-items\n"
     ]
    },
    {
     "name": "stderr",
     "output_type": "stream",
     "text": [
      "100%|██████████| 1/1 [00:00<00:00, 9799.78it/s]\n"
     ]
    },
    {
     "name": "stdout",
     "output_type": "stream",
     "text": [
      "Writing rainfall metadata to taxi_dataset.rainfall-metadata\n"
     ]
    },
    {
     "name": "stderr",
     "output_type": "stream",
     "text": [
      "100%|██████████| 1/1 [00:00<00:00, 10058.28it/s]\n"
     ]
    },
    {
     "name": "stdout",
     "output_type": "stream",
     "text": [
      "Current processing ml-eng-cs611-group-project-nea/relative-humidity/2022-05-25T02-30-02.json\n",
      "Writing rainfall items to taxi_dataset.rainfall-items\n"
     ]
    },
    {
     "name": "stderr",
     "output_type": "stream",
     "text": [
      "100%|██████████| 1/1 [00:00<00:00, 11037.64it/s]\n"
     ]
    },
    {
     "name": "stdout",
     "output_type": "stream",
     "text": [
      "Writing rainfall metadata to taxi_dataset.rainfall-metadata\n"
     ]
    },
    {
     "name": "stderr",
     "output_type": "stream",
     "text": [
      "100%|██████████| 1/1 [00:00<00:00, 10672.53it/s]\n"
     ]
    },
    {
     "name": "stdout",
     "output_type": "stream",
     "text": [
      "Current processing ml-eng-cs611-group-project-nea/relative-humidity/2022-05-25T02-45-02.json\n",
      "Writing rainfall items to taxi_dataset.rainfall-items\n"
     ]
    },
    {
     "name": "stderr",
     "output_type": "stream",
     "text": [
      "100%|██████████| 1/1 [00:00<00:00, 10459.61it/s]\n"
     ]
    },
    {
     "name": "stdout",
     "output_type": "stream",
     "text": [
      "Writing rainfall metadata to taxi_dataset.rainfall-metadata\n"
     ]
    },
    {
     "name": "stderr",
     "output_type": "stream",
     "text": [
      "100%|██████████| 1/1 [00:00<00:00, 10591.68it/s]\n"
     ]
    },
    {
     "name": "stdout",
     "output_type": "stream",
     "text": [
      "Current processing ml-eng-cs611-group-project-nea/relative-humidity/2022-05-25T03-00-02.json\n",
      "Writing rainfall items to taxi_dataset.rainfall-items\n"
     ]
    },
    {
     "name": "stderr",
     "output_type": "stream",
     "text": [
      "100%|██████████| 1/1 [00:00<00:00, 10699.76it/s]\n"
     ]
    },
    {
     "name": "stdout",
     "output_type": "stream",
     "text": [
      "Writing rainfall metadata to taxi_dataset.rainfall-metadata\n"
     ]
    },
    {
     "name": "stderr",
     "output_type": "stream",
     "text": [
      "100%|██████████| 1/1 [00:00<00:00, 10280.16it/s]\n"
     ]
    },
    {
     "name": "stdout",
     "output_type": "stream",
     "text": [
      "Current processing ml-eng-cs611-group-project-nea/relative-humidity/2022-05-25T03-15-02.json\n",
      "Writing rainfall items to taxi_dataset.rainfall-items\n"
     ]
    },
    {
     "name": "stderr",
     "output_type": "stream",
     "text": [
      "100%|██████████| 1/1 [00:00<00:00, 10381.94it/s]\n"
     ]
    },
    {
     "name": "stdout",
     "output_type": "stream",
     "text": [
      "Writing rainfall metadata to taxi_dataset.rainfall-metadata\n"
     ]
    },
    {
     "name": "stderr",
     "output_type": "stream",
     "text": [
      "100%|██████████| 1/1 [00:00<00:00, 11244.78it/s]\n"
     ]
    },
    {
     "name": "stdout",
     "output_type": "stream",
     "text": [
      "Current processing ml-eng-cs611-group-project-nea/relative-humidity/2022-05-25T03-30-01.json\n",
      "Writing rainfall items to taxi_dataset.rainfall-items\n"
     ]
    },
    {
     "name": "stderr",
     "output_type": "stream",
     "text": [
      "100%|██████████| 1/1 [00:00<00:00, 8256.50it/s]\n"
     ]
    },
    {
     "name": "stdout",
     "output_type": "stream",
     "text": [
      "Writing rainfall metadata to taxi_dataset.rainfall-metadata\n"
     ]
    },
    {
     "name": "stderr",
     "output_type": "stream",
     "text": [
      "100%|██████████| 1/1 [00:00<00:00, 9892.23it/s]\n"
     ]
    },
    {
     "name": "stdout",
     "output_type": "stream",
     "text": [
      "Current processing ml-eng-cs611-group-project-nea/relative-humidity/2022-05-25T03-45-02.json\n",
      "Writing rainfall items to taxi_dataset.rainfall-items\n"
     ]
    },
    {
     "name": "stderr",
     "output_type": "stream",
     "text": [
      "100%|██████████| 1/1 [00:00<00:00, 11397.57it/s]\n"
     ]
    },
    {
     "name": "stdout",
     "output_type": "stream",
     "text": [
      "Writing rainfall metadata to taxi_dataset.rainfall-metadata\n"
     ]
    },
    {
     "name": "stderr",
     "output_type": "stream",
     "text": [
      "100%|██████████| 1/1 [00:00<00:00, 11428.62it/s]\n"
     ]
    },
    {
     "name": "stdout",
     "output_type": "stream",
     "text": [
      "Current processing ml-eng-cs611-group-project-nea/relative-humidity/2022-05-25T04-00-02.json\n",
      "Writing rainfall items to taxi_dataset.rainfall-items\n"
     ]
    },
    {
     "name": "stderr",
     "output_type": "stream",
     "text": [
      "100%|██████████| 1/1 [00:00<00:00, 10810.06it/s]\n"
     ]
    },
    {
     "name": "stdout",
     "output_type": "stream",
     "text": [
      "Writing rainfall metadata to taxi_dataset.rainfall-metadata\n"
     ]
    },
    {
     "name": "stderr",
     "output_type": "stream",
     "text": [
      "100%|██████████| 1/1 [00:00<00:00, 11184.81it/s]\n"
     ]
    },
    {
     "name": "stdout",
     "output_type": "stream",
     "text": [
      "Current processing ml-eng-cs611-group-project-nea/relative-humidity/2022-05-25T04-15-01.json\n",
      "Writing rainfall items to taxi_dataset.rainfall-items\n"
     ]
    },
    {
     "name": "stderr",
     "output_type": "stream",
     "text": [
      "100%|██████████| 1/1 [00:00<00:00, 10591.68it/s]\n"
     ]
    },
    {
     "name": "stdout",
     "output_type": "stream",
     "text": [
      "Writing rainfall metadata to taxi_dataset.rainfall-metadata\n"
     ]
    },
    {
     "name": "stderr",
     "output_type": "stream",
     "text": [
      "100%|██████████| 1/1 [00:00<00:00, 8943.08it/s]\n"
     ]
    },
    {
     "name": "stdout",
     "output_type": "stream",
     "text": [
      "Current processing ml-eng-cs611-group-project-nea/relative-humidity/2022-05-25T04-30-02.json\n",
      "Writing rainfall items to taxi_dataset.rainfall-items\n"
     ]
    },
    {
     "name": "stderr",
     "output_type": "stream",
     "text": [
      "100%|██████████| 1/1 [00:00<00:00, 11366.68it/s]\n"
     ]
    },
    {
     "name": "stdout",
     "output_type": "stream",
     "text": [
      "Writing rainfall metadata to taxi_dataset.rainfall-metadata\n"
     ]
    },
    {
     "name": "stderr",
     "output_type": "stream",
     "text": [
      "100%|██████████| 1/1 [00:00<00:00, 10082.46it/s]\n"
     ]
    },
    {
     "name": "stdout",
     "output_type": "stream",
     "text": [
      "Current processing ml-eng-cs611-group-project-nea/relative-humidity/2022-05-25T04-45-02.json\n",
      "Writing rainfall items to taxi_dataset.rainfall-items\n"
     ]
    },
    {
     "name": "stderr",
     "output_type": "stream",
     "text": [
      "100%|██████████| 1/1 [00:00<00:00, 9279.43it/s]\n"
     ]
    },
    {
     "name": "stdout",
     "output_type": "stream",
     "text": [
      "Writing rainfall metadata to taxi_dataset.rainfall-metadata\n"
     ]
    },
    {
     "name": "stderr",
     "output_type": "stream",
     "text": [
      "100%|██████████| 1/1 [00:00<00:00, 9279.43it/s]\n"
     ]
    },
    {
     "name": "stdout",
     "output_type": "stream",
     "text": [
      "Current processing ml-eng-cs611-group-project-nea/relative-humidity/2022-05-25T05-00-01.json\n",
      "Writing rainfall items to taxi_dataset.rainfall-items\n"
     ]
    },
    {
     "name": "stderr",
     "output_type": "stream",
     "text": [
      "100%|██████████| 1/1 [00:00<00:00, 10754.63it/s]\n"
     ]
    },
    {
     "name": "stdout",
     "output_type": "stream",
     "text": [
      "Writing rainfall metadata to taxi_dataset.rainfall-metadata\n"
     ]
    },
    {
     "name": "stderr",
     "output_type": "stream",
     "text": [
      "100%|██████████| 1/1 [00:00<00:00, 9939.11it/s]\n"
     ]
    },
    {
     "name": "stdout",
     "output_type": "stream",
     "text": [
      "Current processing ml-eng-cs611-group-project-nea/relative-humidity/2022-05-25T05-15-05.json\n",
      "Writing rainfall items to taxi_dataset.rainfall-items\n"
     ]
    },
    {
     "name": "stderr",
     "output_type": "stream",
     "text": [
      "100%|██████████| 1/1 [00:00<00:00, 8774.69it/s]\n"
     ]
    },
    {
     "name": "stdout",
     "output_type": "stream",
     "text": [
      "Writing rainfall metadata to taxi_dataset.rainfall-metadata\n"
     ]
    },
    {
     "name": "stderr",
     "output_type": "stream",
     "text": [
      "100%|██████████| 1/1 [00:00<00:00, 8886.24it/s]\n"
     ]
    },
    {
     "name": "stdout",
     "output_type": "stream",
     "text": [
      "Current processing ml-eng-cs611-group-project-nea/relative-humidity/2022-05-25T05-30-02.json\n",
      "Writing rainfall items to taxi_dataset.rainfall-items\n"
     ]
    },
    {
     "name": "stderr",
     "output_type": "stream",
     "text": [
      "100%|██████████| 1/1 [00:00<00:00, 11244.78it/s]\n"
     ]
    },
    {
     "name": "stdout",
     "output_type": "stream",
     "text": [
      "Writing rainfall metadata to taxi_dataset.rainfall-metadata\n"
     ]
    },
    {
     "name": "stderr",
     "output_type": "stream",
     "text": [
      "100%|██████████| 1/1 [00:00<00:00, 10591.68it/s]\n"
     ]
    },
    {
     "name": "stdout",
     "output_type": "stream",
     "text": [
      "Current processing ml-eng-cs611-group-project-nea/relative-humidity/2022-05-25T05-45-01.json\n",
      "Writing rainfall items to taxi_dataset.rainfall-items\n"
     ]
    },
    {
     "name": "stderr",
     "output_type": "stream",
     "text": [
      "100%|██████████| 1/1 [00:00<00:00, 11522.81it/s]\n"
     ]
    },
    {
     "name": "stdout",
     "output_type": "stream",
     "text": [
      "Writing rainfall metadata to taxi_dataset.rainfall-metadata\n"
     ]
    },
    {
     "name": "stderr",
     "output_type": "stream",
     "text": [
      "100%|██████████| 1/1 [00:00<00:00, 5190.97it/s]\n"
     ]
    },
    {
     "name": "stdout",
     "output_type": "stream",
     "text": [
      "Current processing ml-eng-cs611-group-project-nea/relative-humidity/2022-05-25T06-00-02.json\n",
      "Writing rainfall items to taxi_dataset.rainfall-items\n"
     ]
    },
    {
     "name": "stderr",
     "output_type": "stream",
     "text": [
      "100%|██████████| 1/1 [00:00<00:00, 11275.01it/s]\n"
     ]
    },
    {
     "name": "stdout",
     "output_type": "stream",
     "text": [
      "Writing rainfall metadata to taxi_dataset.rainfall-metadata\n"
     ]
    },
    {
     "name": "stderr",
     "output_type": "stream",
     "text": [
      "100%|██████████| 1/1 [00:00<00:00, 11586.48it/s]\n"
     ]
    },
    {
     "name": "stdout",
     "output_type": "stream",
     "text": [
      "Current processing ml-eng-cs611-group-project-nea/relative-humidity/2022-05-25T06-15-02.json\n",
      "Writing rainfall items to taxi_dataset.rainfall-items\n"
     ]
    },
    {
     "name": "stderr",
     "output_type": "stream",
     "text": [
      "100%|██████████| 1/1 [00:00<00:00, 9868.95it/s]\n"
     ]
    },
    {
     "name": "stdout",
     "output_type": "stream",
     "text": [
      "Writing rainfall metadata to taxi_dataset.rainfall-metadata\n"
     ]
    },
    {
     "name": "stderr",
     "output_type": "stream",
     "text": [
      "100%|██████████| 1/1 [00:00<00:00, 10106.76it/s]\n"
     ]
    },
    {
     "name": "stdout",
     "output_type": "stream",
     "text": [
      "Current processing ml-eng-cs611-group-project-nea/relative-humidity/2022-05-25T06-30-02.json\n",
      "Writing rainfall items to taxi_dataset.rainfall-items\n"
     ]
    },
    {
     "name": "stderr",
     "output_type": "stream",
     "text": [
      "100%|██████████| 1/1 [00:00<00:00, 9799.78it/s]\n"
     ]
    },
    {
     "name": "stdout",
     "output_type": "stream",
     "text": [
      "Writing rainfall metadata to taxi_dataset.rainfall-metadata\n"
     ]
    },
    {
     "name": "stderr",
     "output_type": "stream",
     "text": [
      "100%|██████████| 1/1 [00:00<00:00, 11650.84it/s]\n"
     ]
    },
    {
     "name": "stdout",
     "output_type": "stream",
     "text": [
      "Current processing ml-eng-cs611-group-project-nea/relative-humidity/2022-05-25T06-45-01.json\n",
      "Writing rainfall items to taxi_dataset.rainfall-items\n"
     ]
    },
    {
     "name": "stderr",
     "output_type": "stream",
     "text": [
      "100%|██████████| 1/1 [00:00<00:00, 9731.56it/s]\n"
     ]
    },
    {
     "name": "stdout",
     "output_type": "stream",
     "text": [
      "Writing rainfall metadata to taxi_dataset.rainfall-metadata\n"
     ]
    },
    {
     "name": "stderr",
     "output_type": "stream",
     "text": [
      "100%|██████████| 1/1 [00:00<00:00, 9198.04it/s]\n"
     ]
    },
    {
     "name": "stdout",
     "output_type": "stream",
     "text": [
      "Current processing ml-eng-cs611-group-project-nea/relative-humidity/2022-05-25T07-00-07.json\n",
      "Writing rainfall items to taxi_dataset.rainfall-items\n"
     ]
    },
    {
     "name": "stderr",
     "output_type": "stream",
     "text": [
      "100%|██████████| 1/1 [00:00<00:00, 10538.45it/s]\n"
     ]
    },
    {
     "name": "stdout",
     "output_type": "stream",
     "text": [
      "Writing rainfall metadata to taxi_dataset.rainfall-metadata\n"
     ]
    },
    {
     "name": "stderr",
     "output_type": "stream",
     "text": [
      "100%|██████████| 1/1 [00:00<00:00, 8719.97it/s]\n"
     ]
    },
    {
     "name": "stdout",
     "output_type": "stream",
     "text": [
      "Current processing ml-eng-cs611-group-project-nea/relative-humidity/2022-05-25T07-15-06.json\n",
      "Writing rainfall items to taxi_dataset.rainfall-items\n"
     ]
    },
    {
     "name": "stderr",
     "output_type": "stream",
     "text": [
      "100%|██████████| 1/1 [00:00<00:00, 588.26it/s]\n"
     ]
    },
    {
     "name": "stdout",
     "output_type": "stream",
     "text": [
      "Writing rainfall metadata to taxi_dataset.rainfall-metadata\n"
     ]
    },
    {
     "name": "stderr",
     "output_type": "stream",
     "text": [
      "100%|██████████| 1/1 [00:00<00:00, 9799.78it/s]\n"
     ]
    },
    {
     "name": "stdout",
     "output_type": "stream",
     "text": [
      "Current processing ml-eng-cs611-group-project-nea/relative-humidity/2022-05-25T07-30-01.json\n",
      "Writing rainfall items to taxi_dataset.rainfall-items\n"
     ]
    },
    {
     "name": "stderr",
     "output_type": "stream",
     "text": [
      "100%|██████████| 1/1 [00:00<00:00, 11397.57it/s]\n"
     ]
    },
    {
     "name": "stdout",
     "output_type": "stream",
     "text": [
      "Writing rainfall metadata to taxi_dataset.rainfall-metadata\n"
     ]
    },
    {
     "name": "stderr",
     "output_type": "stream",
     "text": [
      "100%|██████████| 1/1 [00:00<00:00, 11428.62it/s]\n"
     ]
    },
    {
     "name": "stdout",
     "output_type": "stream",
     "text": [
      "Current processing ml-eng-cs611-group-project-nea/relative-humidity/2022-05-25T07-45-02.json\n",
      "Writing rainfall items to taxi_dataset.rainfall-items\n"
     ]
    },
    {
     "name": "stderr",
     "output_type": "stream",
     "text": [
      "100%|██████████| 1/1 [00:00<00:00, 8439.24it/s]\n"
     ]
    },
    {
     "name": "stdout",
     "output_type": "stream",
     "text": [
      "Writing rainfall metadata to taxi_dataset.rainfall-metadata\n"
     ]
    },
    {
     "name": "stderr",
     "output_type": "stream",
     "text": [
      "100%|██████████| 1/1 [00:00<00:00, 9000.65it/s]\n"
     ]
    },
    {
     "name": "stdout",
     "output_type": "stream",
     "text": [
      "Current processing ml-eng-cs611-group-project-nea/relative-humidity/2022-05-25T08-00-02.json\n",
      "Writing rainfall items to taxi_dataset.rainfall-items\n"
     ]
    },
    {
     "name": "stderr",
     "output_type": "stream",
     "text": [
      "100%|██████████| 1/1 [00:00<00:00, 9754.20it/s]\n"
     ]
    },
    {
     "name": "stdout",
     "output_type": "stream",
     "text": [
      "Writing rainfall metadata to taxi_dataset.rainfall-metadata\n"
     ]
    },
    {
     "name": "stderr",
     "output_type": "stream",
     "text": [
      "100%|██████████| 1/1 [00:00<00:00, 10922.67it/s]\n"
     ]
    },
    {
     "name": "stdout",
     "output_type": "stream",
     "text": [
      "Current processing ml-eng-cs611-group-project-nea/relative-humidity/2022-05-25T08-15-01.json\n",
      "Writing rainfall items to taxi_dataset.rainfall-items\n"
     ]
    },
    {
     "name": "stderr",
     "output_type": "stream",
     "text": [
      "100%|██████████| 1/1 [00:00<00:00, 11184.81it/s]\n"
     ]
    },
    {
     "name": "stdout",
     "output_type": "stream",
     "text": [
      "Writing rainfall metadata to taxi_dataset.rainfall-metadata\n"
     ]
    },
    {
     "name": "stderr",
     "output_type": "stream",
     "text": [
      "100%|██████████| 1/1 [00:00<00:00, 11683.30it/s]\n"
     ]
    },
    {
     "name": "stdout",
     "output_type": "stream",
     "text": [
      "Current processing ml-eng-cs611-group-project-nea/relative-humidity/2022-05-25T08-30-02.json\n",
      "Writing rainfall items to taxi_dataset.rainfall-items\n"
     ]
    },
    {
     "name": "stderr",
     "output_type": "stream",
     "text": [
      "100%|██████████| 1/1 [00:00<00:00, 10058.28it/s]\n"
     ]
    },
    {
     "name": "stdout",
     "output_type": "stream",
     "text": [
      "Writing rainfall metadata to taxi_dataset.rainfall-metadata\n"
     ]
    },
    {
     "name": "stderr",
     "output_type": "stream",
     "text": [
      "100%|██████████| 1/1 [00:00<00:00, 10356.31it/s]\n"
     ]
    },
    {
     "name": "stdout",
     "output_type": "stream",
     "text": [
      "Current processing ml-eng-cs611-group-project-nea/relative-humidity/2022-05-25T08-45-02.json\n",
      "Writing rainfall items to taxi_dataset.rainfall-items\n"
     ]
    },
    {
     "name": "stderr",
     "output_type": "stream",
     "text": [
      "100%|██████████| 1/1 [00:00<00:00, 2400.86it/s]\n"
     ]
    },
    {
     "name": "stdout",
     "output_type": "stream",
     "text": [
      "Writing rainfall metadata to taxi_dataset.rainfall-metadata\n"
     ]
    },
    {
     "name": "stderr",
     "output_type": "stream",
     "text": [
      "100%|██████████| 1/1 [00:00<00:00, 11915.64it/s]\n"
     ]
    },
    {
     "name": "stdout",
     "output_type": "stream",
     "text": [
      "Current processing ml-eng-cs611-group-project-nea/relative-humidity/2022-05-25T09-00-05.json\n",
      "Writing rainfall items to taxi_dataset.rainfall-items\n"
     ]
    },
    {
     "name": "stderr",
     "output_type": "stream",
     "text": [
      "100%|██████████| 1/1 [00:00<00:00, 9868.95it/s]\n"
     ]
    },
    {
     "name": "stdout",
     "output_type": "stream",
     "text": [
      "Writing rainfall metadata to taxi_dataset.rainfall-metadata\n"
     ]
    },
    {
     "name": "stderr",
     "output_type": "stream",
     "text": [
      "100%|██████████| 1/1 [00:00<00:00, 11184.81it/s]\n"
     ]
    },
    {
     "name": "stdout",
     "output_type": "stream",
     "text": [
      "Current processing ml-eng-cs611-group-project-nea/relative-humidity/2022-05-25T09-15-05.json\n",
      "Writing rainfall items to taxi_dataset.rainfall-items\n"
     ]
    },
    {
     "name": "stderr",
     "output_type": "stream",
     "text": [
      "100%|██████████| 1/1 [00:00<00:00, 11155.06it/s]\n"
     ]
    },
    {
     "name": "stdout",
     "output_type": "stream",
     "text": [
      "Writing rainfall metadata to taxi_dataset.rainfall-metadata\n"
     ]
    },
    {
     "name": "stderr",
     "output_type": "stream",
     "text": [
      "100%|██████████| 1/1 [00:00<00:00, 11650.84it/s]\n"
     ]
    },
    {
     "name": "stdout",
     "output_type": "stream",
     "text": [
      "Current processing ml-eng-cs611-group-project-nea/relative-humidity/2022-05-25T09-30-06.json\n",
      "Writing rainfall items to taxi_dataset.rainfall-items\n"
     ]
    },
    {
     "name": "stderr",
     "output_type": "stream",
     "text": [
      "100%|██████████| 1/1 [00:00<00:00, 11244.78it/s]\n"
     ]
    },
    {
     "name": "stdout",
     "output_type": "stream",
     "text": [
      "Writing rainfall metadata to taxi_dataset.rainfall-metadata\n"
     ]
    },
    {
     "name": "stderr",
     "output_type": "stream",
     "text": [
      "100%|██████████| 1/1 [00:00<00:00, 11214.72it/s]\n"
     ]
    },
    {
     "name": "stdout",
     "output_type": "stream",
     "text": [
      "Current processing ml-eng-cs611-group-project-nea/relative-humidity/2022-05-25T09-45-01.json\n",
      "Writing rainfall items to taxi_dataset.rainfall-items\n"
     ]
    },
    {
     "name": "stderr",
     "output_type": "stream",
     "text": [
      "100%|██████████| 1/1 [00:00<00:00, 10979.85it/s]\n"
     ]
    },
    {
     "name": "stdout",
     "output_type": "stream",
     "text": [
      "Writing rainfall metadata to taxi_dataset.rainfall-metadata\n"
     ]
    },
    {
     "name": "stderr",
     "output_type": "stream",
     "text": [
      "100%|██████████| 1/1 [00:00<00:00, 9986.44it/s]\n"
     ]
    },
    {
     "name": "stdout",
     "output_type": "stream",
     "text": [
      "Current processing ml-eng-cs611-group-project-nea/relative-humidity/2022-05-25T10-00-02.json\n",
      "Writing rainfall items to taxi_dataset.rainfall-items\n"
     ]
    },
    {
     "name": "stderr",
     "output_type": "stream",
     "text": [
      "100%|██████████| 1/1 [00:00<00:00, 11366.68it/s]\n"
     ]
    },
    {
     "name": "stdout",
     "output_type": "stream",
     "text": [
      "Writing rainfall metadata to taxi_dataset.rainfall-metadata\n"
     ]
    },
    {
     "name": "stderr",
     "output_type": "stream",
     "text": [
      "100%|██████████| 1/1 [00:00<00:00, 9939.11it/s]\n"
     ]
    },
    {
     "name": "stdout",
     "output_type": "stream",
     "text": [
      "Current processing ml-eng-cs611-group-project-nea/relative-humidity/2022-05-25T10-15-29.json\n",
      "Writing rainfall items to taxi_dataset.rainfall-items\n"
     ]
    },
    {
     "name": "stderr",
     "output_type": "stream",
     "text": [
      "100%|██████████| 1/1 [00:00<00:00, 10866.07it/s]\n"
     ]
    },
    {
     "name": "stdout",
     "output_type": "stream",
     "text": [
      "Writing rainfall metadata to taxi_dataset.rainfall-metadata\n"
     ]
    },
    {
     "name": "stderr",
     "output_type": "stream",
     "text": [
      "100%|██████████| 1/1 [00:00<00:00, 10979.85it/s]\n"
     ]
    },
    {
     "name": "stdout",
     "output_type": "stream",
     "text": [
      "Current processing ml-eng-cs611-group-project-nea/relative-humidity/2022-05-25T10-30-01.json\n",
      "Writing rainfall items to taxi_dataset.rainfall-items\n"
     ]
    },
    {
     "name": "stderr",
     "output_type": "stream",
     "text": [
      "100%|██████████| 1/1 [00:00<00:00, 10407.70it/s]\n"
     ]
    },
    {
     "name": "stdout",
     "output_type": "stream",
     "text": [
      "Writing rainfall metadata to taxi_dataset.rainfall-metadata\n"
     ]
    },
    {
     "name": "stderr",
     "output_type": "stream",
     "text": [
      "100%|██████████| 1/1 [00:00<00:00, 10922.67it/s]\n"
     ]
    },
    {
     "name": "stdout",
     "output_type": "stream",
     "text": [
      "Current processing ml-eng-cs611-group-project-nea/relative-humidity/2022-05-25T10-45-02.json\n",
      "Writing rainfall items to taxi_dataset.rainfall-items\n"
     ]
    },
    {
     "name": "stderr",
     "output_type": "stream",
     "text": [
      "100%|██████████| 1/1 [00:00<00:00, 10727.12it/s]\n"
     ]
    },
    {
     "name": "stdout",
     "output_type": "stream",
     "text": [
      "Writing rainfall metadata to taxi_dataset.rainfall-metadata\n"
     ]
    },
    {
     "name": "stderr",
     "output_type": "stream",
     "text": [
      "100%|██████████| 1/1 [00:00<00:00, 10672.53it/s]\n"
     ]
    },
    {
     "name": "stdout",
     "output_type": "stream",
     "text": [
      "Current processing ml-eng-cs611-group-project-nea/relative-humidity/2022-05-25T11-00-02.json\n",
      "Writing rainfall items to taxi_dataset.rainfall-items\n"
     ]
    },
    {
     "name": "stderr",
     "output_type": "stream",
     "text": [
      "100%|██████████| 1/1 [00:00<00:00, 10330.80it/s]\n"
     ]
    },
    {
     "name": "stdout",
     "output_type": "stream",
     "text": [
      "Writing rainfall metadata to taxi_dataset.rainfall-metadata\n"
     ]
    },
    {
     "name": "stderr",
     "output_type": "stream",
     "text": [
      "100%|██████████| 1/1 [00:00<00:00, 9776.93it/s]\n"
     ]
    },
    {
     "name": "stdout",
     "output_type": "stream",
     "text": [
      "Current processing ml-eng-cs611-group-project-nea/relative-humidity/2022-05-25T11-15-05.json\n",
      "Writing rainfall items to taxi_dataset.rainfall-items\n"
     ]
    },
    {
     "name": "stderr",
     "output_type": "stream",
     "text": [
      "100%|██████████| 1/1 [00:00<00:00, 5229.81it/s]\n"
     ]
    },
    {
     "name": "stdout",
     "output_type": "stream",
     "text": [
      "Writing rainfall metadata to taxi_dataset.rainfall-metadata\n"
     ]
    },
    {
     "name": "stderr",
     "output_type": "stream",
     "text": [
      "100%|██████████| 1/1 [00:00<00:00, 9868.95it/s]\n"
     ]
    },
    {
     "name": "stdout",
     "output_type": "stream",
     "text": [
      "Current processing ml-eng-cs611-group-project-nea/relative-humidity/2022-05-25T11-30-02.json\n",
      "Writing rainfall items to taxi_dataset.rainfall-items\n"
     ]
    },
    {
     "name": "stderr",
     "output_type": "stream",
     "text": [
      "100%|██████████| 1/1 [00:00<00:00, 9058.97it/s]\n"
     ]
    },
    {
     "name": "stdout",
     "output_type": "stream",
     "text": [
      "Writing rainfall metadata to taxi_dataset.rainfall-metadata\n"
     ]
    },
    {
     "name": "stderr",
     "output_type": "stream",
     "text": [
      "100%|██████████| 1/1 [00:00<00:00, 11244.78it/s]\n"
     ]
    },
    {
     "name": "stdout",
     "output_type": "stream",
     "text": [
      "Current processing ml-eng-cs611-group-project-nea/relative-humidity/2022-05-25T11-45-07.json\n",
      "Writing rainfall items to taxi_dataset.rainfall-items\n"
     ]
    },
    {
     "name": "stderr",
     "output_type": "stream",
     "text": [
      "100%|██████████| 1/1 [00:00<00:00, 11554.56it/s]\n"
     ]
    },
    {
     "name": "stdout",
     "output_type": "stream",
     "text": [
      "Writing rainfall metadata to taxi_dataset.rainfall-metadata\n"
     ]
    },
    {
     "name": "stderr",
     "output_type": "stream",
     "text": [
      "100%|██████████| 1/1 [00:00<00:00, 10280.16it/s]\n"
     ]
    },
    {
     "name": "stdout",
     "output_type": "stream",
     "text": [
      "Current processing ml-eng-cs611-group-project-nea/relative-humidity/2022-05-25T12-00-02.json\n",
      "Writing rainfall items to taxi_dataset.rainfall-items\n"
     ]
    },
    {
     "name": "stderr",
     "output_type": "stream",
     "text": [
      "100%|██████████| 1/1 [00:00<00:00, 10180.35it/s]\n"
     ]
    },
    {
     "name": "stdout",
     "output_type": "stream",
     "text": [
      "Writing rainfall metadata to taxi_dataset.rainfall-metadata\n"
     ]
    },
    {
     "name": "stderr",
     "output_type": "stream",
     "text": [
      "100%|██████████| 1/1 [00:00<00:00, 11305.40it/s]\n"
     ]
    },
    {
     "name": "stdout",
     "output_type": "stream",
     "text": [
      "Current processing ml-eng-cs611-group-project-nea/relative-humidity/2022-05-25T12-15-02.json\n",
      "Writing rainfall items to taxi_dataset.rainfall-items\n"
     ]
    },
    {
     "name": "stderr",
     "output_type": "stream",
     "text": [
      "100%|██████████| 1/1 [00:00<00:00, 11096.04it/s]\n"
     ]
    },
    {
     "name": "stdout",
     "output_type": "stream",
     "text": [
      "Writing rainfall metadata to taxi_dataset.rainfall-metadata\n"
     ]
    },
    {
     "name": "stderr",
     "output_type": "stream",
     "text": [
      "100%|██████████| 1/1 [00:00<00:00, 11066.77it/s]\n"
     ]
    },
    {
     "name": "stdout",
     "output_type": "stream",
     "text": [
      "Current processing ml-eng-cs611-group-project-nea/relative-humidity/2022-05-25T12-30-05.json\n",
      "Writing rainfall items to taxi_dataset.rainfall-items\n"
     ]
    },
    {
     "name": "stderr",
     "output_type": "stream",
     "text": [
      "100%|██████████| 1/1 [00:00<00:00, 11008.67it/s]\n"
     ]
    },
    {
     "name": "stdout",
     "output_type": "stream",
     "text": [
      "Writing rainfall metadata to taxi_dataset.rainfall-metadata\n"
     ]
    },
    {
     "name": "stderr",
     "output_type": "stream",
     "text": [
      "100%|██████████| 1/1 [00:00<00:00, 11244.78it/s]\n"
     ]
    },
    {
     "name": "stdout",
     "output_type": "stream",
     "text": [
      "Current processing ml-eng-cs611-group-project-nea/relative-humidity/2022-05-25T12-45-06.json\n",
      "Writing rainfall items to taxi_dataset.rainfall-items\n"
     ]
    },
    {
     "name": "stderr",
     "output_type": "stream",
     "text": [
      "100%|██████████| 1/1 [00:00<00:00, 10155.70it/s]\n"
     ]
    },
    {
     "name": "stdout",
     "output_type": "stream",
     "text": [
      "Writing rainfall metadata to taxi_dataset.rainfall-metadata\n"
     ]
    },
    {
     "name": "stderr",
     "output_type": "stream",
     "text": [
      "100%|██████████| 1/1 [00:00<00:00, 8272.79it/s]\n"
     ]
    },
    {
     "name": "stdout",
     "output_type": "stream",
     "text": [
      "Current processing ml-eng-cs611-group-project-nea/relative-humidity/2022-05-25T13-00-02.json\n",
      "Writing rainfall items to taxi_dataset.rainfall-items\n"
     ]
    },
    {
     "name": "stderr",
     "output_type": "stream",
     "text": [
      "100%|██████████| 1/1 [00:00<00:00, 7884.03it/s]\n"
     ]
    },
    {
     "name": "stdout",
     "output_type": "stream",
     "text": [
      "Writing rainfall metadata to taxi_dataset.rainfall-metadata\n"
     ]
    },
    {
     "name": "stderr",
     "output_type": "stream",
     "text": [
      "100%|██████████| 1/1 [00:00<00:00, 9642.08it/s]\n"
     ]
    },
    {
     "name": "stdout",
     "output_type": "stream",
     "text": [
      "Current processing ml-eng-cs611-group-project-nea/relative-humidity/2022-05-25T13-15-05.json\n",
      "Writing rainfall items to taxi_dataset.rainfall-items\n"
     ]
    },
    {
     "name": "stderr",
     "output_type": "stream",
     "text": [
      "100%|██████████| 1/1 [00:00<00:00, 9576.04it/s]\n"
     ]
    },
    {
     "name": "stdout",
     "output_type": "stream",
     "text": [
      "Writing rainfall metadata to taxi_dataset.rainfall-metadata\n"
     ]
    },
    {
     "name": "stderr",
     "output_type": "stream",
     "text": [
      "100%|██████████| 1/1 [00:00<00:00, 10058.28it/s]\n"
     ]
    },
    {
     "name": "stdout",
     "output_type": "stream",
     "text": [
      "Current processing ml-eng-cs611-group-project-nea/relative-humidity/2022-05-25T13-30-06.json\n",
      "Writing rainfall items to taxi_dataset.rainfall-items\n"
     ]
    },
    {
     "name": "stderr",
     "output_type": "stream",
     "text": [
      "100%|██████████| 1/1 [00:00<00:00, 9362.29it/s]\n"
     ]
    },
    {
     "name": "stdout",
     "output_type": "stream",
     "text": [
      "Writing rainfall metadata to taxi_dataset.rainfall-metadata\n"
     ]
    },
    {
     "name": "stderr",
     "output_type": "stream",
     "text": [
      "100%|██████████| 1/1 [00:00<00:00, 533.83it/s]\n"
     ]
    },
    {
     "name": "stdout",
     "output_type": "stream",
     "text": [
      "Current processing ml-eng-cs611-group-project-nea/relative-humidity/2022-05-25T13-45-02.json\n",
      "Writing rainfall items to taxi_dataset.rainfall-items\n"
     ]
    },
    {
     "name": "stderr",
     "output_type": "stream",
     "text": [
      "100%|██████████| 1/1 [00:00<00:00, 11275.01it/s]\n"
     ]
    },
    {
     "name": "stdout",
     "output_type": "stream",
     "text": [
      "Writing rainfall metadata to taxi_dataset.rainfall-metadata\n"
     ]
    },
    {
     "name": "stderr",
     "output_type": "stream",
     "text": [
      "100%|██████████| 1/1 [00:00<00:00, 9597.95it/s]\n"
     ]
    },
    {
     "name": "stdout",
     "output_type": "stream",
     "text": [
      "Current processing ml-eng-cs611-group-project-nea/relative-humidity/2022-05-25T14-00-02.json\n",
      "Writing rainfall items to taxi_dataset.rainfall-items\n"
     ]
    },
    {
     "name": "stderr",
     "output_type": "stream",
     "text": [
      "100%|██████████| 1/1 [00:00<00:00, 2392.64it/s]\n"
     ]
    },
    {
     "name": "stdout",
     "output_type": "stream",
     "text": [
      "Writing rainfall metadata to taxi_dataset.rainfall-metadata\n"
     ]
    },
    {
     "name": "stderr",
     "output_type": "stream",
     "text": [
      "100%|██████████| 1/1 [00:00<00:00, 10672.53it/s]\n"
     ]
    },
    {
     "name": "stdout",
     "output_type": "stream",
     "text": [
      "Current processing ml-eng-cs611-group-project-nea/relative-humidity/2022-05-25T14-15-06.json\n",
      "Writing rainfall items to taxi_dataset.rainfall-items\n"
     ]
    },
    {
     "name": "stderr",
     "output_type": "stream",
     "text": [
      "100%|██████████| 1/1 [00:00<00:00, 9341.43it/s]\n"
     ]
    },
    {
     "name": "stdout",
     "output_type": "stream",
     "text": [
      "Writing rainfall metadata to taxi_dataset.rainfall-metadata\n"
     ]
    },
    {
     "name": "stderr",
     "output_type": "stream",
     "text": [
      "100%|██████████| 1/1 [00:00<00:00, 10672.53it/s]\n"
     ]
    },
    {
     "name": "stdout",
     "output_type": "stream",
     "text": [
      "Current processing ml-eng-cs611-group-project-nea/relative-humidity/2022-05-25T14-30-04.json\n",
      "Writing rainfall items to taxi_dataset.rainfall-items\n"
     ]
    },
    {
     "name": "stderr",
     "output_type": "stream",
     "text": [
      "100%|██████████| 1/1 [00:00<00:00, 10230.01it/s]\n"
     ]
    },
    {
     "name": "stdout",
     "output_type": "stream",
     "text": [
      "Writing rainfall metadata to taxi_dataset.rainfall-metadata\n"
     ]
    },
    {
     "name": "stderr",
     "output_type": "stream",
     "text": [
      "100%|██████████| 1/1 [00:00<00:00, 10180.35it/s]\n"
     ]
    },
    {
     "name": "stdout",
     "output_type": "stream",
     "text": [
      "Current processing ml-eng-cs611-group-project-nea/relative-humidity/2022-05-25T14-45-02.json\n",
      "Writing rainfall items to taxi_dataset.rainfall-items\n"
     ]
    },
    {
     "name": "stderr",
     "output_type": "stream",
     "text": [
      "100%|██████████| 1/1 [00:00<00:00, 9915.61it/s]\n"
     ]
    },
    {
     "name": "stdout",
     "output_type": "stream",
     "text": [
      "Writing rainfall metadata to taxi_dataset.rainfall-metadata\n"
     ]
    },
    {
     "name": "stderr",
     "output_type": "stream",
     "text": [
      "100%|██████████| 1/1 [00:00<00:00, 10305.42it/s]\n"
     ]
    },
    {
     "name": "stdout",
     "output_type": "stream",
     "text": [
      "Current processing ml-eng-cs611-group-project-nea/relative-humidity/2022-05-25T15-00-02.json\n",
      "Writing rainfall items to taxi_dataset.rainfall-items\n"
     ]
    },
    {
     "name": "stderr",
     "output_type": "stream",
     "text": [
      "100%|██████████| 1/1 [00:00<00:00, 9776.93it/s]\n"
     ]
    },
    {
     "name": "stdout",
     "output_type": "stream",
     "text": [
      "Writing rainfall metadata to taxi_dataset.rainfall-metadata\n"
     ]
    },
    {
     "name": "stderr",
     "output_type": "stream",
     "text": [
      "100%|██████████| 1/1 [00:00<00:00, 10356.31it/s]\n"
     ]
    },
    {
     "name": "stdout",
     "output_type": "stream",
     "text": [
      "Current processing ml-eng-cs611-group-project-nea/relative-humidity/2022-05-25T15-15-02.json\n",
      "Writing rainfall items to taxi_dataset.rainfall-items\n"
     ]
    },
    {
     "name": "stderr",
     "output_type": "stream",
     "text": [
      "100%|██████████| 1/1 [00:00<00:00, 11125.47it/s]\n"
     ]
    },
    {
     "name": "stdout",
     "output_type": "stream",
     "text": [
      "Writing rainfall metadata to taxi_dataset.rainfall-metadata\n"
     ]
    },
    {
     "name": "stderr",
     "output_type": "stream",
     "text": [
      "100%|██████████| 1/1 [00:00<00:00, 10058.28it/s]\n"
     ]
    },
    {
     "name": "stdout",
     "output_type": "stream",
     "text": [
      "Current processing ml-eng-cs611-group-project-nea/relative-humidity/2022-05-25T15-30-04.json\n",
      "Writing rainfall items to taxi_dataset.rainfall-items\n"
     ]
    },
    {
     "name": "stderr",
     "output_type": "stream",
     "text": [
      "100%|██████████| 1/1 [00:00<00:00, 5041.23it/s]\n"
     ]
    },
    {
     "name": "stdout",
     "output_type": "stream",
     "text": [
      "Writing rainfall metadata to taxi_dataset.rainfall-metadata\n"
     ]
    },
    {
     "name": "stderr",
     "output_type": "stream",
     "text": [
      "100%|██████████| 1/1 [00:00<00:00, 5133.79it/s]\n"
     ]
    },
    {
     "name": "stdout",
     "output_type": "stream",
     "text": [
      "Current processing ml-eng-cs611-group-project-nea/relative-humidity/2022-05-25T15-45-02.json\n",
      "Writing rainfall items to taxi_dataset.rainfall-items\n"
     ]
    },
    {
     "name": "stderr",
     "output_type": "stream",
     "text": [
      "100%|██████████| 1/1 [00:00<00:00, 9467.95it/s]\n"
     ]
    },
    {
     "name": "stdout",
     "output_type": "stream",
     "text": [
      "Writing rainfall metadata to taxi_dataset.rainfall-metadata\n"
     ]
    },
    {
     "name": "stderr",
     "output_type": "stream",
     "text": [
      "100%|██████████| 1/1 [00:00<00:00, 11335.96it/s]\n"
     ]
    },
    {
     "name": "stdout",
     "output_type": "stream",
     "text": [
      "Current processing ml-eng-cs611-group-project-nea/relative-humidity/2022-05-25T16-00-05.json\n",
      "Writing rainfall items to taxi_dataset.rainfall-items\n"
     ]
    },
    {
     "name": "stderr",
     "output_type": "stream",
     "text": [
      "100%|██████████| 1/1 [00:00<00:00, 9915.61it/s]\n"
     ]
    },
    {
     "name": "stdout",
     "output_type": "stream",
     "text": [
      "Writing rainfall metadata to taxi_dataset.rainfall-metadata\n"
     ]
    },
    {
     "name": "stderr",
     "output_type": "stream",
     "text": [
      "100%|██████████| 1/1 [00:00<00:00, 11522.81it/s]\n"
     ]
    },
    {
     "name": "stdout",
     "output_type": "stream",
     "text": [
      "Current processing ml-eng-cs611-group-project-nea/relative-humidity/2022-05-25T16-15-08.json\n",
      "Writing rainfall items to taxi_dataset.rainfall-items\n"
     ]
    },
    {
     "name": "stderr",
     "output_type": "stream",
     "text": [
      "100%|██████████| 1/1 [00:00<00:00, 8811.56it/s]\n"
     ]
    },
    {
     "name": "stdout",
     "output_type": "stream",
     "text": [
      "Writing rainfall metadata to taxi_dataset.rainfall-metadata\n"
     ]
    },
    {
     "name": "stderr",
     "output_type": "stream",
     "text": [
      "100%|██████████| 1/1 [00:00<00:00, 11366.68it/s]\n"
     ]
    },
    {
     "name": "stdout",
     "output_type": "stream",
     "text": [
      "Current processing ml-eng-cs611-group-project-nea/relative-humidity/2022-05-25T16-30-04.json\n",
      "Writing rainfall items to taxi_dataset.rainfall-items\n"
     ]
    },
    {
     "name": "stderr",
     "output_type": "stream",
     "text": [
      "100%|██████████| 1/1 [00:00<00:00, 10565.00it/s]\n"
     ]
    },
    {
     "name": "stdout",
     "output_type": "stream",
     "text": [
      "Writing rainfall metadata to taxi_dataset.rainfall-metadata\n"
     ]
    },
    {
     "name": "stderr",
     "output_type": "stream",
     "text": [
      "100%|██████████| 1/1 [00:00<00:00, 11522.81it/s]\n"
     ]
    },
    {
     "name": "stdout",
     "output_type": "stream",
     "text": [
      "Current processing ml-eng-cs611-group-project-nea/relative-humidity/2022-05-25T16-45-01.json\n",
      "Writing rainfall items to taxi_dataset.rainfall-items\n"
     ]
    },
    {
     "name": "stderr",
     "output_type": "stream",
     "text": [
      "100%|██████████| 1/1 [00:00<00:00, 8355.19it/s]\n"
     ]
    },
    {
     "name": "stdout",
     "output_type": "stream",
     "text": [
      "Writing rainfall metadata to taxi_dataset.rainfall-metadata\n"
     ]
    },
    {
     "name": "stderr",
     "output_type": "stream",
     "text": [
      "100%|██████████| 1/1 [00:00<00:00, 10538.45it/s]\n"
     ]
    },
    {
     "name": "stdout",
     "output_type": "stream",
     "text": [
      "Current processing ml-eng-cs611-group-project-nea/relative-humidity/2022-05-25T17-00-02.json\n",
      "Writing rainfall items to taxi_dataset.rainfall-items\n"
     ]
    },
    {
     "name": "stderr",
     "output_type": "stream",
     "text": [
      "100%|██████████| 1/1 [00:00<00:00, 2529.74it/s]\n"
     ]
    },
    {
     "name": "stdout",
     "output_type": "stream",
     "text": [
      "Writing rainfall metadata to taxi_dataset.rainfall-metadata\n"
     ]
    },
    {
     "name": "stderr",
     "output_type": "stream",
     "text": [
      "100%|██████████| 1/1 [00:00<00:00, 9986.44it/s]\n"
     ]
    },
    {
     "name": "stdout",
     "output_type": "stream",
     "text": [
      "Current processing ml-eng-cs611-group-project-nea/relative-humidity/2022-05-25T17-15-07.json\n",
      "Writing rainfall items to taxi_dataset.rainfall-items\n"
     ]
    },
    {
     "name": "stderr",
     "output_type": "stream",
     "text": [
      "100%|██████████| 1/1 [00:00<00:00, 10782.27it/s]\n"
     ]
    },
    {
     "name": "stdout",
     "output_type": "stream",
     "text": [
      "Writing rainfall metadata to taxi_dataset.rainfall-metadata\n"
     ]
    },
    {
     "name": "stderr",
     "output_type": "stream",
     "text": [
      "100%|██████████| 1/1 [00:00<00:00, 10230.01it/s]\n"
     ]
    },
    {
     "name": "stdout",
     "output_type": "stream",
     "text": [
      "Current processing ml-eng-cs611-group-project-nea/relative-humidity/2022-05-25T17-30-01.json\n",
      "Writing rainfall items to taxi_dataset.rainfall-items\n"
     ]
    },
    {
     "name": "stderr",
     "output_type": "stream",
     "text": [
      "100%|██████████| 1/1 [00:00<00:00, 9915.61it/s]\n"
     ]
    },
    {
     "name": "stdout",
     "output_type": "stream",
     "text": [
      "Writing rainfall metadata to taxi_dataset.rainfall-metadata\n"
     ]
    },
    {
     "name": "stderr",
     "output_type": "stream",
     "text": [
      "100%|██████████| 1/1 [00:00<00:00, 11366.68it/s]\n"
     ]
    },
    {
     "name": "stdout",
     "output_type": "stream",
     "text": [
      "Current processing ml-eng-cs611-group-project-nea/relative-humidity/2022-05-25T17-45-02.json\n",
      "Writing rainfall items to taxi_dataset.rainfall-items\n"
     ]
    },
    {
     "name": "stderr",
     "output_type": "stream",
     "text": [
      "100%|██████████| 1/1 [00:00<00:00, 11397.57it/s]\n"
     ]
    },
    {
     "name": "stdout",
     "output_type": "stream",
     "text": [
      "Writing rainfall metadata to taxi_dataset.rainfall-metadata\n"
     ]
    },
    {
     "name": "stderr",
     "output_type": "stream",
     "text": [
      "100%|██████████| 1/1 [00:00<00:00, 11366.68it/s]\n"
     ]
    },
    {
     "name": "stdout",
     "output_type": "stream",
     "text": [
      "Current processing ml-eng-cs611-group-project-nea/relative-humidity/2022-05-25T18-00-02.json\n",
      "Writing rainfall items to taxi_dataset.rainfall-items\n"
     ]
    },
    {
     "name": "stderr",
     "output_type": "stream",
     "text": [
      "100%|██████████| 1/1 [00:00<00:00, 10356.31it/s]\n"
     ]
    },
    {
     "name": "stdout",
     "output_type": "stream",
     "text": [
      "Writing rainfall metadata to taxi_dataset.rainfall-metadata\n"
     ]
    },
    {
     "name": "stderr",
     "output_type": "stream",
     "text": [
      "100%|██████████| 1/1 [00:00<00:00, 11522.81it/s]\n"
     ]
    },
    {
     "name": "stdout",
     "output_type": "stream",
     "text": [
      "Current processing ml-eng-cs611-group-project-nea/relative-humidity/2022-05-25T18-15-02.json\n",
      "Writing rainfall items to taxi_dataset.rainfall-items\n"
     ]
    },
    {
     "name": "stderr",
     "output_type": "stream",
     "text": [
      "100%|██████████| 1/1 [00:00<00:00, 10205.12it/s]\n"
     ]
    },
    {
     "name": "stdout",
     "output_type": "stream",
     "text": [
      "Writing rainfall metadata to taxi_dataset.rainfall-metadata\n"
     ]
    },
    {
     "name": "stderr",
     "output_type": "stream",
     "text": [
      "100%|██████████| 1/1 [00:00<00:00, 9939.11it/s]\n"
     ]
    },
    {
     "name": "stdout",
     "output_type": "stream",
     "text": [
      "Current processing ml-eng-cs611-group-project-nea/relative-humidity/2022-05-25T18-30-08.json\n",
      "Writing rainfall items to taxi_dataset.rainfall-items\n"
     ]
    },
    {
     "name": "stderr",
     "output_type": "stream",
     "text": [
      "100%|██████████| 1/1 [00:00<00:00, 10837.99it/s]\n"
     ]
    },
    {
     "name": "stdout",
     "output_type": "stream",
     "text": [
      "Writing rainfall metadata to taxi_dataset.rainfall-metadata\n"
     ]
    },
    {
     "name": "stderr",
     "output_type": "stream",
     "text": [
      "100%|██████████| 1/1 [00:00<00:00, 5412.01it/s]\n"
     ]
    },
    {
     "name": "stdout",
     "output_type": "stream",
     "text": [
      "Current processing ml-eng-cs611-group-project-nea/relative-humidity/2022-05-25T18-45-02.json\n",
      "Writing rainfall items to taxi_dataset.rainfall-items\n"
     ]
    },
    {
     "name": "stderr",
     "output_type": "stream",
     "text": [
      "100%|██████████| 1/1 [00:00<00:00, 8559.80it/s]\n"
     ]
    },
    {
     "name": "stdout",
     "output_type": "stream",
     "text": [
      "Writing rainfall metadata to taxi_dataset.rainfall-metadata\n"
     ]
    },
    {
     "name": "stderr",
     "output_type": "stream",
     "text": [
      "100%|██████████| 1/1 [00:00<00:00, 10459.61it/s]\n"
     ]
    },
    {
     "name": "stdout",
     "output_type": "stream",
     "text": [
      "Current processing ml-eng-cs611-group-project-nea/relative-humidity/2022-05-25T19-00-02.json\n",
      "Writing rainfall items to taxi_dataset.rainfall-items\n"
     ]
    },
    {
     "name": "stderr",
     "output_type": "stream",
     "text": [
      "100%|██████████| 1/1 [00:00<00:00, 10058.28it/s]\n"
     ]
    },
    {
     "name": "stdout",
     "output_type": "stream",
     "text": [
      "Writing rainfall metadata to taxi_dataset.rainfall-metadata\n"
     ]
    },
    {
     "name": "stderr",
     "output_type": "stream",
     "text": [
      "100%|██████████| 1/1 [00:00<00:00, 11650.84it/s]\n"
     ]
    },
    {
     "name": "stdout",
     "output_type": "stream",
     "text": [
      "Current processing ml-eng-cs611-group-project-nea/relative-humidity/2022-05-25T19-15-02.json\n",
      "Writing rainfall items to taxi_dataset.rainfall-items\n"
     ]
    },
    {
     "name": "stderr",
     "output_type": "stream",
     "text": [
      "100%|██████████| 1/1 [00:00<00:00, 11096.04it/s]\n"
     ]
    },
    {
     "name": "stdout",
     "output_type": "stream",
     "text": [
      "Writing rainfall metadata to taxi_dataset.rainfall-metadata\n"
     ]
    },
    {
     "name": "stderr",
     "output_type": "stream",
     "text": [
      "100%|██████████| 1/1 [00:00<00:00, 10330.80it/s]\n"
     ]
    },
    {
     "name": "stdout",
     "output_type": "stream",
     "text": [
      "Current processing ml-eng-cs611-group-project-nea/relative-humidity/2022-05-25T19-30-06.json\n",
      "Writing rainfall items to taxi_dataset.rainfall-items\n"
     ]
    },
    {
     "name": "stderr",
     "output_type": "stream",
     "text": [
      "100%|██████████| 1/1 [00:00<00:00, 9341.43it/s]\n"
     ]
    },
    {
     "name": "stdout",
     "output_type": "stream",
     "text": [
      "Writing rainfall metadata to taxi_dataset.rainfall-metadata\n"
     ]
    },
    {
     "name": "stderr",
     "output_type": "stream",
     "text": [
      "100%|██████████| 1/1 [00:00<00:00, 10618.49it/s]\n"
     ]
    },
    {
     "name": "stdout",
     "output_type": "stream",
     "text": [
      "Current processing ml-eng-cs611-group-project-nea/relative-humidity/2022-05-25T19-45-06.json\n",
      "Writing rainfall items to taxi_dataset.rainfall-items\n"
     ]
    },
    {
     "name": "stderr",
     "output_type": "stream",
     "text": [
      "100%|██████████| 1/1 [00:00<00:00, 5229.81it/s]\n"
     ]
    },
    {
     "name": "stdout",
     "output_type": "stream",
     "text": [
      "Writing rainfall metadata to taxi_dataset.rainfall-metadata\n"
     ]
    },
    {
     "name": "stderr",
     "output_type": "stream",
     "text": [
      "100%|██████████| 1/1 [00:00<00:00, 10305.42it/s]\n"
     ]
    },
    {
     "name": "stdout",
     "output_type": "stream",
     "text": [
      "Current processing ml-eng-cs611-group-project-nea/relative-humidity/2022-05-25T20-00-05.json\n",
      "Writing rainfall items to taxi_dataset.rainfall-items\n"
     ]
    },
    {
     "name": "stderr",
     "output_type": "stream",
     "text": [
      "100%|██████████| 1/1 [00:00<00:00, 10699.76it/s]\n"
     ]
    },
    {
     "name": "stdout",
     "output_type": "stream",
     "text": [
      "Writing rainfall metadata to taxi_dataset.rainfall-metadata\n"
     ]
    },
    {
     "name": "stderr",
     "output_type": "stream",
     "text": [
      "100%|██████████| 1/1 [00:00<00:00, 11096.04it/s]\n"
     ]
    },
    {
     "name": "stdout",
     "output_type": "stream",
     "text": [
      "Current processing ml-eng-cs611-group-project-nea/relative-humidity/2022-05-25T20-15-02.json\n",
      "Writing rainfall items to taxi_dataset.rainfall-items\n"
     ]
    },
    {
     "name": "stderr",
     "output_type": "stream",
     "text": [
      "100%|██████████| 1/1 [00:00<00:00, 8886.24it/s]\n"
     ]
    },
    {
     "name": "stdout",
     "output_type": "stream",
     "text": [
      "Writing rainfall metadata to taxi_dataset.rainfall-metadata\n"
     ]
    },
    {
     "name": "stderr",
     "output_type": "stream",
     "text": [
      "100%|██████████| 1/1 [00:00<00:00, 11184.81it/s]\n"
     ]
    },
    {
     "name": "stdout",
     "output_type": "stream",
     "text": [
      "Current processing ml-eng-cs611-group-project-nea/relative-humidity/2022-05-25T20-30-06.json\n",
      "Writing rainfall items to taxi_dataset.rainfall-items\n"
     ]
    },
    {
     "name": "stderr",
     "output_type": "stream",
     "text": [
      "100%|██████████| 1/1 [00:00<00:00, 11305.40it/s]\n"
     ]
    },
    {
     "name": "stdout",
     "output_type": "stream",
     "text": [
      "Writing rainfall metadata to taxi_dataset.rainfall-metadata\n"
     ]
    },
    {
     "name": "stderr",
     "output_type": "stream",
     "text": [
      "100%|██████████| 1/1 [00:00<00:00, 10951.19it/s]\n"
     ]
    },
    {
     "name": "stdout",
     "output_type": "stream",
     "text": [
      "Current processing ml-eng-cs611-group-project-nea/relative-humidity/2022-05-25T20-45-02.json\n",
      "Writing rainfall items to taxi_dataset.rainfall-items\n"
     ]
    },
    {
     "name": "stderr",
     "output_type": "stream",
     "text": [
      "100%|██████████| 1/1 [00:00<00:00, 11037.64it/s]\n"
     ]
    },
    {
     "name": "stdout",
     "output_type": "stream",
     "text": [
      "Writing rainfall metadata to taxi_dataset.rainfall-metadata\n"
     ]
    },
    {
     "name": "stderr",
     "output_type": "stream",
     "text": [
      "100%|██████████| 1/1 [00:00<00:00, 11618.57it/s]\n"
     ]
    },
    {
     "name": "stdout",
     "output_type": "stream",
     "text": [
      "Current processing ml-eng-cs611-group-project-nea/relative-humidity/2022-05-25T21-00-02.json\n",
      "Writing rainfall items to taxi_dataset.rainfall-items\n"
     ]
    },
    {
     "name": "stderr",
     "output_type": "stream",
     "text": [
      "100%|██████████| 1/1 [00:00<00:00, 9962.72it/s]\n"
     ]
    },
    {
     "name": "stdout",
     "output_type": "stream",
     "text": [
      "Writing rainfall metadata to taxi_dataset.rainfall-metadata\n"
     ]
    },
    {
     "name": "stderr",
     "output_type": "stream",
     "text": [
      "100%|██████████| 1/1 [00:00<00:00, 9058.97it/s]\n"
     ]
    },
    {
     "name": "stdout",
     "output_type": "stream",
     "text": [
      "Current processing ml-eng-cs611-group-project-nea/relative-humidity/2022-05-25T21-15-06.json\n",
      "Writing rainfall items to taxi_dataset.rainfall-items\n"
     ]
    },
    {
     "name": "stderr",
     "output_type": "stream",
     "text": [
      "100%|██████████| 1/1 [00:00<00:00, 11335.96it/s]\n"
     ]
    },
    {
     "name": "stdout",
     "output_type": "stream",
     "text": [
      "Writing rainfall metadata to taxi_dataset.rainfall-metadata\n"
     ]
    },
    {
     "name": "stderr",
     "output_type": "stream",
     "text": [
      "100%|██████████| 1/1 [00:00<00:00, 574.09it/s]\n"
     ]
    },
    {
     "name": "stdout",
     "output_type": "stream",
     "text": [
      "Current processing ml-eng-cs611-group-project-nea/relative-humidity/2022-05-25T21-30-02.json\n",
      "Writing rainfall items to taxi_dataset.rainfall-items\n"
     ]
    },
    {
     "name": "stderr",
     "output_type": "stream",
     "text": [
      "100%|██████████| 1/1 [00:00<00:00, 9709.04it/s]\n"
     ]
    },
    {
     "name": "stdout",
     "output_type": "stream",
     "text": [
      "Writing rainfall metadata to taxi_dataset.rainfall-metadata\n"
     ]
    },
    {
     "name": "stderr",
     "output_type": "stream",
     "text": [
      "100%|██████████| 1/1 [00:00<00:00, 9300.01it/s]\n"
     ]
    },
    {
     "name": "stdout",
     "output_type": "stream",
     "text": [
      "Current processing ml-eng-cs611-group-project-nea/relative-humidity/2022-05-25T21-45-02.json\n",
      "Writing rainfall items to taxi_dataset.rainfall-items\n"
     ]
    },
    {
     "name": "stderr",
     "output_type": "stream",
     "text": [
      "100%|██████████| 1/1 [00:00<00:00, 10381.94it/s]\n"
     ]
    },
    {
     "name": "stdout",
     "output_type": "stream",
     "text": [
      "Writing rainfall metadata to taxi_dataset.rainfall-metadata\n"
     ]
    },
    {
     "name": "stderr",
     "output_type": "stream",
     "text": [
      "100%|██████████| 1/1 [00:00<00:00, 9619.96it/s]\n"
     ]
    },
    {
     "name": "stdout",
     "output_type": "stream",
     "text": [
      "Current processing ml-eng-cs611-group-project-nea/relative-humidity/2022-05-25T22-00-02.json\n",
      "Writing rainfall items to taxi_dataset.rainfall-items\n"
     ]
    },
    {
     "name": "stderr",
     "output_type": "stream",
     "text": [
      "100%|██████████| 1/1 [00:00<00:00, 8924.05it/s]\n"
     ]
    },
    {
     "name": "stdout",
     "output_type": "stream",
     "text": [
      "Writing rainfall metadata to taxi_dataset.rainfall-metadata\n"
     ]
    },
    {
     "name": "stderr",
     "output_type": "stream",
     "text": [
      "100%|██████████| 1/1 [00:00<00:00, 10034.22it/s]\n"
     ]
    },
    {
     "name": "stdout",
     "output_type": "stream",
     "text": [
      "Current processing ml-eng-cs611-group-project-nea/relative-humidity/2022-05-25T22-15-02.json\n",
      "Writing rainfall items to taxi_dataset.rainfall-items\n"
     ]
    },
    {
     "name": "stderr",
     "output_type": "stream",
     "text": [
      "100%|██████████| 1/1 [00:00<00:00, 9467.95it/s]\n"
     ]
    },
    {
     "name": "stdout",
     "output_type": "stream",
     "text": [
      "Writing rainfall metadata to taxi_dataset.rainfall-metadata\n"
     ]
    },
    {
     "name": "stderr",
     "output_type": "stream",
     "text": [
      "100%|██████████| 1/1 [00:00<00:00, 9320.68it/s]\n"
     ]
    },
    {
     "name": "stdout",
     "output_type": "stream",
     "text": [
      "Current processing ml-eng-cs611-group-project-nea/relative-humidity/2022-05-25T22-30-02.json\n",
      "Writing rainfall items to taxi_dataset.rainfall-items\n"
     ]
    },
    {
     "name": "stderr",
     "output_type": "stream",
     "text": [
      "100%|██████████| 1/1 [00:00<00:00, 9118.05it/s]\n"
     ]
    },
    {
     "name": "stdout",
     "output_type": "stream",
     "text": [
      "Writing rainfall metadata to taxi_dataset.rainfall-metadata\n"
     ]
    },
    {
     "name": "stderr",
     "output_type": "stream",
     "text": [
      "100%|██████████| 1/1 [00:00<00:00, 9597.95it/s]\n"
     ]
    },
    {
     "name": "stdout",
     "output_type": "stream",
     "text": [
      "Current processing ml-eng-cs611-group-project-nea/relative-humidity/2022-05-25T22-45-02.json\n",
      "Writing rainfall items to taxi_dataset.rainfall-items\n"
     ]
    },
    {
     "name": "stderr",
     "output_type": "stream",
     "text": [
      "100%|██████████| 1/1 [00:00<00:00, 9915.61it/s]\n"
     ]
    },
    {
     "name": "stdout",
     "output_type": "stream",
     "text": [
      "Writing rainfall metadata to taxi_dataset.rainfall-metadata\n"
     ]
    },
    {
     "name": "stderr",
     "output_type": "stream",
     "text": [
      "100%|██████████| 1/1 [00:00<00:00, 11366.68it/s]\n"
     ]
    },
    {
     "name": "stdout",
     "output_type": "stream",
     "text": [
      "Current processing ml-eng-cs611-group-project-nea/relative-humidity/2022-05-25T23-00-01.json\n",
      "Writing rainfall items to taxi_dataset.rainfall-items\n"
     ]
    },
    {
     "name": "stderr",
     "output_type": "stream",
     "text": [
      "100%|██████████| 1/1 [00:00<00:00, 9238.56it/s]\n"
     ]
    },
    {
     "name": "stdout",
     "output_type": "stream",
     "text": [
      "Writing rainfall metadata to taxi_dataset.rainfall-metadata\n"
     ]
    },
    {
     "name": "stderr",
     "output_type": "stream",
     "text": [
      "100%|██████████| 1/1 [00:00<00:00, 9218.25it/s]\n"
     ]
    },
    {
     "name": "stdout",
     "output_type": "stream",
     "text": [
      "Current processing ml-eng-cs611-group-project-nea/relative-humidity/2022-05-25T23-15-02.json\n",
      "Writing rainfall items to taxi_dataset.rainfall-items\n"
     ]
    },
    {
     "name": "stderr",
     "output_type": "stream",
     "text": [
      "100%|██████████| 1/1 [00:00<00:00, 10034.22it/s]\n"
     ]
    },
    {
     "name": "stdout",
     "output_type": "stream",
     "text": [
      "Writing rainfall metadata to taxi_dataset.rainfall-metadata\n"
     ]
    },
    {
     "name": "stderr",
     "output_type": "stream",
     "text": [
      "100%|██████████| 1/1 [00:00<00:00, 10131.17it/s]\n"
     ]
    },
    {
     "name": "stdout",
     "output_type": "stream",
     "text": [
      "Current processing ml-eng-cs611-group-project-nea/relative-humidity/2022-05-25T23-30-02.json\n",
      "Writing rainfall items to taxi_dataset.rainfall-items\n"
     ]
    },
    {
     "name": "stderr",
     "output_type": "stream",
     "text": [
      "  0%|          | 0/1 [00:00<?, ?it/s]"
     ]
    }
   ],
   "source": [
    "import pandas as pd\n",
    "import gcsfs\n",
    "import sys\n",
    "import json\n",
    "\n",
    "sys.path.append('smu-cs611-mleng-project')\n",
    "from src import jsonParser\n",
    "\n",
    "params={\n",
    "    'project':'ml-eng-cs611-group-project',\n",
    "    'nea_bucket':'ml-eng-cs611-group-project-nea',\n",
    "    'taxi_bucket':'ml-eng-cs611-group-project-taxis',\n",
    "    'dataset_id':'taxi_dataset',\n",
    "    'measures':['rainfall','air-temperature','relative-humidity'],\n",
    "    'stop_date':'2022-05-28'\n",
    "}\n",
    "\n",
    "project=params['project']\n",
    "nea_bucket=params['nea_bucket']\n",
    "taxi_bucket=params['taxi_bucket']\n",
    "dataset_id=params['dataset_id']\n",
    "stop_date=params['stop_date']\n",
    "\n",
    "nea_filenames = fs.glob('/'.join([nea_bucket,measure,\"*\"]))\n",
    "taxi_filenames = fs.glob('/'.join([taxi_bucket,'taxis',\"*\"]))\n",
    "parser = jsonParser.jsonParser(fs)\n",
    "\n",
    "for measure in params['measures']:\n",
    "    fs = gcsfs.GCSFileSystem(project=project)\n",
    "    filenames = fs.glob('/'.join([nea_bucket,measure,\"*\"]))\n",
    "    for file in nea_filenames:\n",
    "        if stop_date in file[:10]:\n",
    "            break\n",
    "        else:            \n",
    "            print(f\"Current processing {file}\")            \n",
    "            items = parser.get_items(file,measure)\n",
    "            metadata = parser.get_metadata(file,measure)\n",
    "\n",
    "            item_table = dataset_id+'.'+measure+'-items'\n",
    "            metadata_table = dataset_id+'.'+measure+'-metadata'\n",
    "\n",
    "            print(f\"Writing {measure} items to {item_table}\")\n",
    "            items.to_gbq(item_table,project,chunksize=None,if_exists='append')\n",
    "\n",
    "            print(f\"Writing {measure} metadata to {metadata_table}\")\n",
    "            metadata.to_gbq(metadata_table,project,chunksize=None,if_exists='append')\n",
    "\n",
    "\n",
    "for file in taxi_filenames:    \n",
    "    if stop_date in file[:10]:\n",
    "        break\n",
    "    else:\n",
    "        taxi_data = parser.load_taxi_data(file)\n",
    "        taxi_data.to_gbq(dataset_id+'.'+'taxi-availability',project,chunksize=None,if_exists='append')"
   ]
  },
  {
   "cell_type": "code",
   "execution_count": 1,
   "id": "5cb3f6d2-f9c5-4d30-8506-591a8fc922ac",
   "metadata": {},
   "outputs": [
    {
     "data": {
      "text/plain": [
       "'2022-05-27'"
      ]
     },
     "execution_count": 1,
     "metadata": {},
     "output_type": "execute_result"
    }
   ],
   "source": [
    "string = '2022-05-27T14-15-03.json'\n",
    "string[:10]"
   ]
  },
  {
   "cell_type": "code",
   "execution_count": 8,
   "id": "766c53bf-af20-499a-95ea-73692393af80",
   "metadata": {},
   "outputs": [
    {
     "name": "stdout",
     "output_type": "stream",
     "text": [
      "[]\n",
      "['2022-05-27']\n"
     ]
    }
   ],
   "source": [
    "pattern = r'\\d{4}-\\d{2}-\\d{2}$'\n",
    "date_match = re.compile(pattern)\n",
    "print(date_match.findall(string))\n",
    "print(date_match.findall('2022-05-27'))"
   ]
  },
  {
   "cell_type": "markdown",
   "id": "f93b4760-4de5-4af9-98a7-962b3e41bfa6",
   "metadata": {
    "tags": []
   },
   "source": [
    "## Section 4 - Assignment code\n",
    "\n",
    "First, get grid dataframe from repo"
   ]
  },
  {
   "cell_type": "code",
   "execution_count": 11,
   "id": "e7a70849-4ce3-458b-8c74-d569aab61d18",
   "metadata": {},
   "outputs": [],
   "source": [
    "grids = gpd.read_file('smu-cs611-mleng-project/Gridding/SG_grid/SG_grids.shp')\n",
    "grids['centroid'] = grids['geometry'].apply(lambda x: x.centroid) # grids get centroid"
   ]
  },
  {
   "cell_type": "markdown",
   "id": "c88d4e3c-23b7-4b54-aa3e-9da74c0ad270",
   "metadata": {},
   "source": [
    "Next, pass the grid and raw data into the Assignment class"
   ]
  },
  {
   "cell_type": "code",
   "execution_count": 15,
   "id": "c356db11-e225-4445-bc6c-69ee14dacc04",
   "metadata": {},
   "outputs": [],
   "source": [
    "taxi_gdf = parser.load_taxi_gdf(taxi_filenames[0])"
   ]
  },
  {
   "cell_type": "code",
   "execution_count": 16,
   "id": "f50e192a-fed4-495b-a76e-eb2e46534566",
   "metadata": {},
   "outputs": [],
   "source": [
    "assigner = assignment.Assignment(grids=grids,nea_data=nea_data,taxi_data=taxi_gdf)"
   ]
  },
  {
   "cell_type": "code",
   "execution_count": 17,
   "id": "848e736e-ea22-4e26-9e0d-a1c0ae27d74b",
   "metadata": {},
   "outputs": [
    {
     "name": "stdout",
     "output_type": "stream",
     "text": [
      "Now preprocessing for [rainfall]\n",
      "rainfall pts has 66 points\n",
      "Now preprocessing for [air-temperature]\n",
      "air-temperature pts has 4 points\n",
      "Now preprocessing for [relative-humidity]\n",
      "relative-humidity pts has 4 points\n"
     ]
    },
    {
     "data": {
      "text/html": [
       "<div>\n",
       "<style scoped>\n",
       "    .dataframe tbody tr th:only-of-type {\n",
       "        vertical-align: middle;\n",
       "    }\n",
       "\n",
       "    .dataframe tbody tr th {\n",
       "        vertical-align: top;\n",
       "    }\n",
       "\n",
       "    .dataframe thead th {\n",
       "        text-align: right;\n",
       "    }\n",
       "</style>\n",
       "<table border=\"1\" class=\"dataframe\">\n",
       "  <thead>\n",
       "    <tr style=\"text-align: right;\">\n",
       "      <th></th>\n",
       "      <th>grid_num</th>\n",
       "      <th>geometry</th>\n",
       "      <th>centroid</th>\n",
       "      <th>rainfall_station_id</th>\n",
       "      <th>rainfall</th>\n",
       "      <th>Description_x</th>\n",
       "      <th>air-temperature_station_id</th>\n",
       "      <th>air-temperature</th>\n",
       "      <th>Description_y</th>\n",
       "      <th>relative-humidity_station_id</th>\n",
       "      <th>relative-humidity</th>\n",
       "      <th>Description</th>\n",
       "    </tr>\n",
       "  </thead>\n",
       "  <tbody>\n",
       "    <tr>\n",
       "      <th>0</th>\n",
       "      <td>1</td>\n",
       "      <td>POLYGON ((103.60000 1.47500, 103.61000 1.47500...</td>\n",
       "      <td>POINT (103.60500 1.47006)</td>\n",
       "      <td>S112</td>\n",
       "      <td>0.0</td>\n",
       "      <td>rainfall</td>\n",
       "      <td>S121</td>\n",
       "      <td>27.8</td>\n",
       "      <td>air-temperature</td>\n",
       "      <td>S121</td>\n",
       "      <td>85.9</td>\n",
       "      <td>relative-humidity</td>\n",
       "    </tr>\n",
       "    <tr>\n",
       "      <th>263</th>\n",
       "      <td>2</td>\n",
       "      <td>POLYGON ((103.61000 1.47500, 103.62000 1.47500...</td>\n",
       "      <td>POINT (103.61500 1.47006)</td>\n",
       "      <td>S112</td>\n",
       "      <td>0.0</td>\n",
       "      <td>rainfall</td>\n",
       "      <td>S100</td>\n",
       "      <td>27.5</td>\n",
       "      <td>air-temperature</td>\n",
       "      <td>S100</td>\n",
       "      <td>89.8</td>\n",
       "      <td>relative-humidity</td>\n",
       "    </tr>\n",
       "    <tr>\n",
       "      <th>264</th>\n",
       "      <td>3</td>\n",
       "      <td>POLYGON ((103.62000 1.47500, 103.63000 1.47500...</td>\n",
       "      <td>POINT (103.62500 1.47006)</td>\n",
       "      <td>S112</td>\n",
       "      <td>0.0</td>\n",
       "      <td>rainfall</td>\n",
       "      <td>S100</td>\n",
       "      <td>27.5</td>\n",
       "      <td>air-temperature</td>\n",
       "      <td>S100</td>\n",
       "      <td>89.8</td>\n",
       "      <td>relative-humidity</td>\n",
       "    </tr>\n",
       "    <tr>\n",
       "      <th>265</th>\n",
       "      <td>4</td>\n",
       "      <td>POLYGON ((103.63000 1.47500, 103.64000 1.47500...</td>\n",
       "      <td>POINT (103.63500 1.47006)</td>\n",
       "      <td>S112</td>\n",
       "      <td>0.0</td>\n",
       "      <td>rainfall</td>\n",
       "      <td>S100</td>\n",
       "      <td>27.5</td>\n",
       "      <td>air-temperature</td>\n",
       "      <td>S100</td>\n",
       "      <td>89.8</td>\n",
       "      <td>relative-humidity</td>\n",
       "    </tr>\n",
       "    <tr>\n",
       "      <th>266</th>\n",
       "      <td>5</td>\n",
       "      <td>POLYGON ((103.64000 1.47500, 103.65000 1.47500...</td>\n",
       "      <td>POINT (103.64500 1.47006)</td>\n",
       "      <td>S112</td>\n",
       "      <td>0.0</td>\n",
       "      <td>rainfall</td>\n",
       "      <td>S100</td>\n",
       "      <td>27.5</td>\n",
       "      <td>air-temperature</td>\n",
       "      <td>S100</td>\n",
       "      <td>89.8</td>\n",
       "      <td>relative-humidity</td>\n",
       "    </tr>\n",
       "    <tr>\n",
       "      <th>...</th>\n",
       "      <td>...</td>\n",
       "      <td>...</td>\n",
       "      <td>...</td>\n",
       "      <td>...</td>\n",
       "      <td>...</td>\n",
       "      <td>...</td>\n",
       "      <td>...</td>\n",
       "      <td>...</td>\n",
       "      <td>...</td>\n",
       "      <td>...</td>\n",
       "      <td>...</td>\n",
       "      <td>...</td>\n",
       "    </tr>\n",
       "    <tr>\n",
       "      <th>1081</th>\n",
       "      <td>1211</td>\n",
       "      <td>POLYGON ((104.00000 1.21789, 104.01000 1.21789...</td>\n",
       "      <td>POINT (104.00500 1.21294)</td>\n",
       "      <td>S208</td>\n",
       "      <td>0.0</td>\n",
       "      <td>rainfall</td>\n",
       "      <td>S24</td>\n",
       "      <td>29.3</td>\n",
       "      <td>air-temperature</td>\n",
       "      <td>S24</td>\n",
       "      <td>77.8</td>\n",
       "      <td>relative-humidity</td>\n",
       "    </tr>\n",
       "    <tr>\n",
       "      <th>1082</th>\n",
       "      <td>1212</td>\n",
       "      <td>POLYGON ((104.01000 1.21789, 104.02000 1.21789...</td>\n",
       "      <td>POINT (104.01500 1.21294)</td>\n",
       "      <td>S208</td>\n",
       "      <td>0.0</td>\n",
       "      <td>rainfall</td>\n",
       "      <td>S24</td>\n",
       "      <td>29.3</td>\n",
       "      <td>air-temperature</td>\n",
       "      <td>S24</td>\n",
       "      <td>77.8</td>\n",
       "      <td>relative-humidity</td>\n",
       "    </tr>\n",
       "    <tr>\n",
       "      <th>1083</th>\n",
       "      <td>1213</td>\n",
       "      <td>POLYGON ((104.02000 1.21789, 104.03000 1.21789...</td>\n",
       "      <td>POINT (104.02500 1.21294)</td>\n",
       "      <td>S208</td>\n",
       "      <td>0.0</td>\n",
       "      <td>rainfall</td>\n",
       "      <td>S24</td>\n",
       "      <td>29.3</td>\n",
       "      <td>air-temperature</td>\n",
       "      <td>S24</td>\n",
       "      <td>77.8</td>\n",
       "      <td>relative-humidity</td>\n",
       "    </tr>\n",
       "    <tr>\n",
       "      <th>1084</th>\n",
       "      <td>1214</td>\n",
       "      <td>POLYGON ((104.03000 1.21789, 104.04000 1.21789...</td>\n",
       "      <td>POINT (104.03500 1.21294)</td>\n",
       "      <td>S208</td>\n",
       "      <td>0.0</td>\n",
       "      <td>rainfall</td>\n",
       "      <td>S24</td>\n",
       "      <td>29.3</td>\n",
       "      <td>air-temperature</td>\n",
       "      <td>S24</td>\n",
       "      <td>77.8</td>\n",
       "      <td>relative-humidity</td>\n",
       "    </tr>\n",
       "    <tr>\n",
       "      <th>1085</th>\n",
       "      <td>1215</td>\n",
       "      <td>POLYGON ((104.04000 1.21789, 104.05000 1.21789...</td>\n",
       "      <td>POINT (104.04500 1.21294)</td>\n",
       "      <td>S208</td>\n",
       "      <td>0.0</td>\n",
       "      <td>rainfall</td>\n",
       "      <td>S24</td>\n",
       "      <td>29.3</td>\n",
       "      <td>air-temperature</td>\n",
       "      <td>S24</td>\n",
       "      <td>77.8</td>\n",
       "      <td>relative-humidity</td>\n",
       "    </tr>\n",
       "  </tbody>\n",
       "</table>\n",
       "<p>1215 rows × 12 columns</p>\n",
       "</div>"
      ],
      "text/plain": [
       "      grid_num                                           geometry  \\\n",
       "0            1  POLYGON ((103.60000 1.47500, 103.61000 1.47500...   \n",
       "263          2  POLYGON ((103.61000 1.47500, 103.62000 1.47500...   \n",
       "264          3  POLYGON ((103.62000 1.47500, 103.63000 1.47500...   \n",
       "265          4  POLYGON ((103.63000 1.47500, 103.64000 1.47500...   \n",
       "266          5  POLYGON ((103.64000 1.47500, 103.65000 1.47500...   \n",
       "...        ...                                                ...   \n",
       "1081      1211  POLYGON ((104.00000 1.21789, 104.01000 1.21789...   \n",
       "1082      1212  POLYGON ((104.01000 1.21789, 104.02000 1.21789...   \n",
       "1083      1213  POLYGON ((104.02000 1.21789, 104.03000 1.21789...   \n",
       "1084      1214  POLYGON ((104.03000 1.21789, 104.04000 1.21789...   \n",
       "1085      1215  POLYGON ((104.04000 1.21789, 104.05000 1.21789...   \n",
       "\n",
       "                       centroid rainfall_station_id  rainfall Description_x  \\\n",
       "0     POINT (103.60500 1.47006)                S112       0.0      rainfall   \n",
       "263   POINT (103.61500 1.47006)                S112       0.0      rainfall   \n",
       "264   POINT (103.62500 1.47006)                S112       0.0      rainfall   \n",
       "265   POINT (103.63500 1.47006)                S112       0.0      rainfall   \n",
       "266   POINT (103.64500 1.47006)                S112       0.0      rainfall   \n",
       "...                         ...                 ...       ...           ...   \n",
       "1081  POINT (104.00500 1.21294)                S208       0.0      rainfall   \n",
       "1082  POINT (104.01500 1.21294)                S208       0.0      rainfall   \n",
       "1083  POINT (104.02500 1.21294)                S208       0.0      rainfall   \n",
       "1084  POINT (104.03500 1.21294)                S208       0.0      rainfall   \n",
       "1085  POINT (104.04500 1.21294)                S208       0.0      rainfall   \n",
       "\n",
       "     air-temperature_station_id  air-temperature    Description_y  \\\n",
       "0                          S121             27.8  air-temperature   \n",
       "263                        S100             27.5  air-temperature   \n",
       "264                        S100             27.5  air-temperature   \n",
       "265                        S100             27.5  air-temperature   \n",
       "266                        S100             27.5  air-temperature   \n",
       "...                         ...              ...              ...   \n",
       "1081                        S24             29.3  air-temperature   \n",
       "1082                        S24             29.3  air-temperature   \n",
       "1083                        S24             29.3  air-temperature   \n",
       "1084                        S24             29.3  air-temperature   \n",
       "1085                        S24             29.3  air-temperature   \n",
       "\n",
       "     relative-humidity_station_id  relative-humidity        Description  \n",
       "0                            S121               85.9  relative-humidity  \n",
       "263                          S100               89.8  relative-humidity  \n",
       "264                          S100               89.8  relative-humidity  \n",
       "265                          S100               89.8  relative-humidity  \n",
       "266                          S100               89.8  relative-humidity  \n",
       "...                           ...                ...                ...  \n",
       "1081                          S24               77.8  relative-humidity  \n",
       "1082                          S24               77.8  relative-humidity  \n",
       "1083                          S24               77.8  relative-humidity  \n",
       "1084                          S24               77.8  relative-humidity  \n",
       "1085                          S24               77.8  relative-humidity  \n",
       "\n",
       "[1215 rows x 12 columns]"
      ]
     },
     "execution_count": 17,
     "metadata": {},
     "output_type": "execute_result"
    }
   ],
   "source": [
    "assigner.nea_preprocess()"
   ]
  },
  {
   "cell_type": "code",
   "execution_count": 18,
   "id": "16d0fae6-ef9c-448f-bf98-ab78be35aa86",
   "metadata": {},
   "outputs": [
    {
     "name": "stdout",
     "output_type": "stream",
     "text": [
      "[1022] coordinates parsed\n",
      "test array is length [1022]\n"
     ]
    },
    {
     "data": {
      "text/html": [
       "<div>\n",
       "<style scoped>\n",
       "    .dataframe tbody tr th:only-of-type {\n",
       "        vertical-align: middle;\n",
       "    }\n",
       "\n",
       "    .dataframe tbody tr th {\n",
       "        vertical-align: top;\n",
       "    }\n",
       "\n",
       "    .dataframe thead th {\n",
       "        text-align: right;\n",
       "    }\n",
       "</style>\n",
       "<table border=\"1\" class=\"dataframe\">\n",
       "  <thead>\n",
       "    <tr style=\"text-align: right;\">\n",
       "      <th></th>\n",
       "      <th>timestamp</th>\n",
       "      <th>grid_num</th>\n",
       "      <th>taxi_count</th>\n",
       "    </tr>\n",
       "  </thead>\n",
       "  <tbody>\n",
       "    <tr>\n",
       "      <th>98</th>\n",
       "      <td>2022-05-27T13:59:30+08:00</td>\n",
       "      <td>112</td>\n",
       "      <td>2</td>\n",
       "    </tr>\n",
       "    <tr>\n",
       "      <th>111</th>\n",
       "      <td>2022-05-27T13:59:30+08:00</td>\n",
       "      <td>113</td>\n",
       "      <td>1</td>\n",
       "    </tr>\n",
       "    <tr>\n",
       "      <th>59</th>\n",
       "      <td>2022-05-27T13:59:30+08:00</td>\n",
       "      <td>152</td>\n",
       "      <td>1</td>\n",
       "    </tr>\n",
       "    <tr>\n",
       "      <th>79</th>\n",
       "      <td>2022-05-27T13:59:30+08:00</td>\n",
       "      <td>155</td>\n",
       "      <td>17</td>\n",
       "    </tr>\n",
       "    <tr>\n",
       "      <th>84</th>\n",
       "      <td>2022-05-27T13:59:30+08:00</td>\n",
       "      <td>156</td>\n",
       "      <td>3</td>\n",
       "    </tr>\n",
       "    <tr>\n",
       "      <th>...</th>\n",
       "      <td>...</td>\n",
       "      <td>...</td>\n",
       "      <td>...</td>\n",
       "    </tr>\n",
       "    <tr>\n",
       "      <th>160</th>\n",
       "      <td>2022-05-27T13:59:30+08:00</td>\n",
       "      <td>971</td>\n",
       "      <td>1</td>\n",
       "    </tr>\n",
       "    <tr>\n",
       "      <th>164</th>\n",
       "      <td>2022-05-27T13:59:30+08:00</td>\n",
       "      <td>972</td>\n",
       "      <td>1</td>\n",
       "    </tr>\n",
       "    <tr>\n",
       "      <th>102</th>\n",
       "      <td>2022-05-27T13:59:30+08:00</td>\n",
       "      <td>1013</td>\n",
       "      <td>4</td>\n",
       "    </tr>\n",
       "    <tr>\n",
       "      <th>108</th>\n",
       "      <td>2022-05-27T13:59:30+08:00</td>\n",
       "      <td>1058</td>\n",
       "      <td>2</td>\n",
       "    </tr>\n",
       "    <tr>\n",
       "      <th>129</th>\n",
       "      <td>2022-05-27T13:59:30+08:00</td>\n",
       "      <td>1104</td>\n",
       "      <td>2</td>\n",
       "    </tr>\n",
       "  </tbody>\n",
       "</table>\n",
       "<p>262 rows × 3 columns</p>\n",
       "</div>"
      ],
      "text/plain": [
       "                     timestamp  grid_num  taxi_count\n",
       "98   2022-05-27T13:59:30+08:00       112           2\n",
       "111  2022-05-27T13:59:30+08:00       113           1\n",
       "59   2022-05-27T13:59:30+08:00       152           1\n",
       "79   2022-05-27T13:59:30+08:00       155          17\n",
       "84   2022-05-27T13:59:30+08:00       156           3\n",
       "..                         ...       ...         ...\n",
       "160  2022-05-27T13:59:30+08:00       971           1\n",
       "164  2022-05-27T13:59:30+08:00       972           1\n",
       "102  2022-05-27T13:59:30+08:00      1013           4\n",
       "108  2022-05-27T13:59:30+08:00      1058           2\n",
       "129  2022-05-27T13:59:30+08:00      1104           2\n",
       "\n",
       "[262 rows x 3 columns]"
      ]
     },
     "execution_count": 18,
     "metadata": {},
     "output_type": "execute_result"
    }
   ],
   "source": [
    "assigner.taxi_preprocess()"
   ]
  },
  {
   "cell_type": "code",
   "execution_count": 19,
   "id": "e8b5e824-3dfb-420c-bd5b-6833d4b26abf",
   "metadata": {},
   "outputs": [
    {
     "data": {
      "text/html": [
       "<div>\n",
       "<style scoped>\n",
       "    .dataframe tbody tr th:only-of-type {\n",
       "        vertical-align: middle;\n",
       "    }\n",
       "\n",
       "    .dataframe tbody tr th {\n",
       "        vertical-align: top;\n",
       "    }\n",
       "\n",
       "    .dataframe thead th {\n",
       "        text-align: right;\n",
       "    }\n",
       "</style>\n",
       "<table border=\"1\" class=\"dataframe\">\n",
       "  <thead>\n",
       "    <tr style=\"text-align: right;\">\n",
       "      <th></th>\n",
       "      <th>grid_num</th>\n",
       "      <th>geometry</th>\n",
       "      <th>centroid</th>\n",
       "      <th>rainfall_station_id</th>\n",
       "      <th>rainfall</th>\n",
       "      <th>Description_x</th>\n",
       "      <th>air-temperature_station_id</th>\n",
       "      <th>air-temperature</th>\n",
       "      <th>Description_y</th>\n",
       "      <th>relative-humidity_station_id</th>\n",
       "      <th>relative-humidity</th>\n",
       "      <th>Description</th>\n",
       "      <th>timestamp</th>\n",
       "      <th>taxi_count</th>\n",
       "    </tr>\n",
       "  </thead>\n",
       "  <tbody>\n",
       "    <tr>\n",
       "      <th>0</th>\n",
       "      <td>1</td>\n",
       "      <td>POLYGON ((103.60000 1.47500, 103.61000 1.47500...</td>\n",
       "      <td>POINT (103.60500 1.47006)</td>\n",
       "      <td>S112</td>\n",
       "      <td>0.0</td>\n",
       "      <td>rainfall</td>\n",
       "      <td>S121</td>\n",
       "      <td>27.8</td>\n",
       "      <td>air-temperature</td>\n",
       "      <td>S121</td>\n",
       "      <td>85.9</td>\n",
       "      <td>relative-humidity</td>\n",
       "      <td>2022-05-27T13:59:30+08:00</td>\n",
       "      <td>0.0</td>\n",
       "    </tr>\n",
       "    <tr>\n",
       "      <th>1</th>\n",
       "      <td>2</td>\n",
       "      <td>POLYGON ((103.61000 1.47500, 103.62000 1.47500...</td>\n",
       "      <td>POINT (103.61500 1.47006)</td>\n",
       "      <td>S112</td>\n",
       "      <td>0.0</td>\n",
       "      <td>rainfall</td>\n",
       "      <td>S100</td>\n",
       "      <td>27.5</td>\n",
       "      <td>air-temperature</td>\n",
       "      <td>S100</td>\n",
       "      <td>89.8</td>\n",
       "      <td>relative-humidity</td>\n",
       "      <td>2022-05-27T13:59:30+08:00</td>\n",
       "      <td>0.0</td>\n",
       "    </tr>\n",
       "    <tr>\n",
       "      <th>2</th>\n",
       "      <td>3</td>\n",
       "      <td>POLYGON ((103.62000 1.47500, 103.63000 1.47500...</td>\n",
       "      <td>POINT (103.62500 1.47006)</td>\n",
       "      <td>S112</td>\n",
       "      <td>0.0</td>\n",
       "      <td>rainfall</td>\n",
       "      <td>S100</td>\n",
       "      <td>27.5</td>\n",
       "      <td>air-temperature</td>\n",
       "      <td>S100</td>\n",
       "      <td>89.8</td>\n",
       "      <td>relative-humidity</td>\n",
       "      <td>2022-05-27T13:59:30+08:00</td>\n",
       "      <td>0.0</td>\n",
       "    </tr>\n",
       "    <tr>\n",
       "      <th>3</th>\n",
       "      <td>4</td>\n",
       "      <td>POLYGON ((103.63000 1.47500, 103.64000 1.47500...</td>\n",
       "      <td>POINT (103.63500 1.47006)</td>\n",
       "      <td>S112</td>\n",
       "      <td>0.0</td>\n",
       "      <td>rainfall</td>\n",
       "      <td>S100</td>\n",
       "      <td>27.5</td>\n",
       "      <td>air-temperature</td>\n",
       "      <td>S100</td>\n",
       "      <td>89.8</td>\n",
       "      <td>relative-humidity</td>\n",
       "      <td>2022-05-27T13:59:30+08:00</td>\n",
       "      <td>0.0</td>\n",
       "    </tr>\n",
       "    <tr>\n",
       "      <th>4</th>\n",
       "      <td>5</td>\n",
       "      <td>POLYGON ((103.64000 1.47500, 103.65000 1.47500...</td>\n",
       "      <td>POINT (103.64500 1.47006)</td>\n",
       "      <td>S112</td>\n",
       "      <td>0.0</td>\n",
       "      <td>rainfall</td>\n",
       "      <td>S100</td>\n",
       "      <td>27.5</td>\n",
       "      <td>air-temperature</td>\n",
       "      <td>S100</td>\n",
       "      <td>89.8</td>\n",
       "      <td>relative-humidity</td>\n",
       "      <td>2022-05-27T13:59:30+08:00</td>\n",
       "      <td>0.0</td>\n",
       "    </tr>\n",
       "    <tr>\n",
       "      <th>...</th>\n",
       "      <td>...</td>\n",
       "      <td>...</td>\n",
       "      <td>...</td>\n",
       "      <td>...</td>\n",
       "      <td>...</td>\n",
       "      <td>...</td>\n",
       "      <td>...</td>\n",
       "      <td>...</td>\n",
       "      <td>...</td>\n",
       "      <td>...</td>\n",
       "      <td>...</td>\n",
       "      <td>...</td>\n",
       "      <td>...</td>\n",
       "      <td>...</td>\n",
       "    </tr>\n",
       "    <tr>\n",
       "      <th>1210</th>\n",
       "      <td>1211</td>\n",
       "      <td>POLYGON ((104.00000 1.21789, 104.01000 1.21789...</td>\n",
       "      <td>POINT (104.00500 1.21294)</td>\n",
       "      <td>S208</td>\n",
       "      <td>0.0</td>\n",
       "      <td>rainfall</td>\n",
       "      <td>S24</td>\n",
       "      <td>29.3</td>\n",
       "      <td>air-temperature</td>\n",
       "      <td>S24</td>\n",
       "      <td>77.8</td>\n",
       "      <td>relative-humidity</td>\n",
       "      <td>2022-05-27T13:59:30+08:00</td>\n",
       "      <td>0.0</td>\n",
       "    </tr>\n",
       "    <tr>\n",
       "      <th>1211</th>\n",
       "      <td>1212</td>\n",
       "      <td>POLYGON ((104.01000 1.21789, 104.02000 1.21789...</td>\n",
       "      <td>POINT (104.01500 1.21294)</td>\n",
       "      <td>S208</td>\n",
       "      <td>0.0</td>\n",
       "      <td>rainfall</td>\n",
       "      <td>S24</td>\n",
       "      <td>29.3</td>\n",
       "      <td>air-temperature</td>\n",
       "      <td>S24</td>\n",
       "      <td>77.8</td>\n",
       "      <td>relative-humidity</td>\n",
       "      <td>2022-05-27T13:59:30+08:00</td>\n",
       "      <td>0.0</td>\n",
       "    </tr>\n",
       "    <tr>\n",
       "      <th>1212</th>\n",
       "      <td>1213</td>\n",
       "      <td>POLYGON ((104.02000 1.21789, 104.03000 1.21789...</td>\n",
       "      <td>POINT (104.02500 1.21294)</td>\n",
       "      <td>S208</td>\n",
       "      <td>0.0</td>\n",
       "      <td>rainfall</td>\n",
       "      <td>S24</td>\n",
       "      <td>29.3</td>\n",
       "      <td>air-temperature</td>\n",
       "      <td>S24</td>\n",
       "      <td>77.8</td>\n",
       "      <td>relative-humidity</td>\n",
       "      <td>2022-05-27T13:59:30+08:00</td>\n",
       "      <td>0.0</td>\n",
       "    </tr>\n",
       "    <tr>\n",
       "      <th>1213</th>\n",
       "      <td>1214</td>\n",
       "      <td>POLYGON ((104.03000 1.21789, 104.04000 1.21789...</td>\n",
       "      <td>POINT (104.03500 1.21294)</td>\n",
       "      <td>S208</td>\n",
       "      <td>0.0</td>\n",
       "      <td>rainfall</td>\n",
       "      <td>S24</td>\n",
       "      <td>29.3</td>\n",
       "      <td>air-temperature</td>\n",
       "      <td>S24</td>\n",
       "      <td>77.8</td>\n",
       "      <td>relative-humidity</td>\n",
       "      <td>2022-05-27T13:59:30+08:00</td>\n",
       "      <td>0.0</td>\n",
       "    </tr>\n",
       "    <tr>\n",
       "      <th>1214</th>\n",
       "      <td>1215</td>\n",
       "      <td>POLYGON ((104.04000 1.21789, 104.05000 1.21789...</td>\n",
       "      <td>POINT (104.04500 1.21294)</td>\n",
       "      <td>S208</td>\n",
       "      <td>0.0</td>\n",
       "      <td>rainfall</td>\n",
       "      <td>S24</td>\n",
       "      <td>29.3</td>\n",
       "      <td>air-temperature</td>\n",
       "      <td>S24</td>\n",
       "      <td>77.8</td>\n",
       "      <td>relative-humidity</td>\n",
       "      <td>2022-05-27T13:59:30+08:00</td>\n",
       "      <td>0.0</td>\n",
       "    </tr>\n",
       "  </tbody>\n",
       "</table>\n",
       "<p>1215 rows × 14 columns</p>\n",
       "</div>"
      ],
      "text/plain": [
       "      grid_num                                           geometry  \\\n",
       "0            1  POLYGON ((103.60000 1.47500, 103.61000 1.47500...   \n",
       "1            2  POLYGON ((103.61000 1.47500, 103.62000 1.47500...   \n",
       "2            3  POLYGON ((103.62000 1.47500, 103.63000 1.47500...   \n",
       "3            4  POLYGON ((103.63000 1.47500, 103.64000 1.47500...   \n",
       "4            5  POLYGON ((103.64000 1.47500, 103.65000 1.47500...   \n",
       "...        ...                                                ...   \n",
       "1210      1211  POLYGON ((104.00000 1.21789, 104.01000 1.21789...   \n",
       "1211      1212  POLYGON ((104.01000 1.21789, 104.02000 1.21789...   \n",
       "1212      1213  POLYGON ((104.02000 1.21789, 104.03000 1.21789...   \n",
       "1213      1214  POLYGON ((104.03000 1.21789, 104.04000 1.21789...   \n",
       "1214      1215  POLYGON ((104.04000 1.21789, 104.05000 1.21789...   \n",
       "\n",
       "                       centroid rainfall_station_id  rainfall Description_x  \\\n",
       "0     POINT (103.60500 1.47006)                S112       0.0      rainfall   \n",
       "1     POINT (103.61500 1.47006)                S112       0.0      rainfall   \n",
       "2     POINT (103.62500 1.47006)                S112       0.0      rainfall   \n",
       "3     POINT (103.63500 1.47006)                S112       0.0      rainfall   \n",
       "4     POINT (103.64500 1.47006)                S112       0.0      rainfall   \n",
       "...                         ...                 ...       ...           ...   \n",
       "1210  POINT (104.00500 1.21294)                S208       0.0      rainfall   \n",
       "1211  POINT (104.01500 1.21294)                S208       0.0      rainfall   \n",
       "1212  POINT (104.02500 1.21294)                S208       0.0      rainfall   \n",
       "1213  POINT (104.03500 1.21294)                S208       0.0      rainfall   \n",
       "1214  POINT (104.04500 1.21294)                S208       0.0      rainfall   \n",
       "\n",
       "     air-temperature_station_id  air-temperature    Description_y  \\\n",
       "0                          S121             27.8  air-temperature   \n",
       "1                          S100             27.5  air-temperature   \n",
       "2                          S100             27.5  air-temperature   \n",
       "3                          S100             27.5  air-temperature   \n",
       "4                          S100             27.5  air-temperature   \n",
       "...                         ...              ...              ...   \n",
       "1210                        S24             29.3  air-temperature   \n",
       "1211                        S24             29.3  air-temperature   \n",
       "1212                        S24             29.3  air-temperature   \n",
       "1213                        S24             29.3  air-temperature   \n",
       "1214                        S24             29.3  air-temperature   \n",
       "\n",
       "     relative-humidity_station_id  relative-humidity        Description  \\\n",
       "0                            S121               85.9  relative-humidity   \n",
       "1                            S100               89.8  relative-humidity   \n",
       "2                            S100               89.8  relative-humidity   \n",
       "3                            S100               89.8  relative-humidity   \n",
       "4                            S100               89.8  relative-humidity   \n",
       "...                           ...                ...                ...   \n",
       "1210                          S24               77.8  relative-humidity   \n",
       "1211                          S24               77.8  relative-humidity   \n",
       "1212                          S24               77.8  relative-humidity   \n",
       "1213                          S24               77.8  relative-humidity   \n",
       "1214                          S24               77.8  relative-humidity   \n",
       "\n",
       "                      timestamp  taxi_count  \n",
       "0     2022-05-27T13:59:30+08:00         0.0  \n",
       "1     2022-05-27T13:59:30+08:00         0.0  \n",
       "2     2022-05-27T13:59:30+08:00         0.0  \n",
       "3     2022-05-27T13:59:30+08:00         0.0  \n",
       "4     2022-05-27T13:59:30+08:00         0.0  \n",
       "...                         ...         ...  \n",
       "1210  2022-05-27T13:59:30+08:00         0.0  \n",
       "1211  2022-05-27T13:59:30+08:00         0.0  \n",
       "1212  2022-05-27T13:59:30+08:00         0.0  \n",
       "1213  2022-05-27T13:59:30+08:00         0.0  \n",
       "1214  2022-05-27T13:59:30+08:00         0.0  \n",
       "\n",
       "[1215 rows x 14 columns]"
      ]
     },
     "execution_count": 19,
     "metadata": {},
     "output_type": "execute_result"
    }
   ],
   "source": [
    "assignment_df = assigner.merge_grids()\n",
    "assignment_df"
   ]
  },
  {
   "cell_type": "code",
   "execution_count": 10,
   "id": "41a9b3fd-4d04-48ab-bd8f-b9f8becb08d3",
   "metadata": {},
   "outputs": [
    {
     "data": {
      "text/html": [
       "<div>\n",
       "<style scoped>\n",
       "    .dataframe tbody tr th:only-of-type {\n",
       "        vertical-align: middle;\n",
       "    }\n",
       "\n",
       "    .dataframe tbody tr th {\n",
       "        vertical-align: top;\n",
       "    }\n",
       "\n",
       "    .dataframe thead th {\n",
       "        text-align: right;\n",
       "    }\n",
       "</style>\n",
       "<table border=\"1\" class=\"dataframe\">\n",
       "  <thead>\n",
       "    <tr style=\"text-align: right;\">\n",
       "      <th></th>\n",
       "      <th>index</th>\n",
       "      <th>timestamp</th>\n",
       "      <th>geometry</th>\n",
       "    </tr>\n",
       "  </thead>\n",
       "  <tbody>\n",
       "    <tr>\n",
       "      <th>0</th>\n",
       "      <td>0</td>\n",
       "      <td>2022-05-27T13:59:30+08:00</td>\n",
       "      <td>POINT (103.62462 1.30000)</td>\n",
       "    </tr>\n",
       "    <tr>\n",
       "      <th>1</th>\n",
       "      <td>1</td>\n",
       "      <td>2022-05-27T13:59:30+08:00</td>\n",
       "      <td>POINT (103.65803 1.31233)</td>\n",
       "    </tr>\n",
       "    <tr>\n",
       "      <th>2</th>\n",
       "      <td>2</td>\n",
       "      <td>2022-05-27T13:59:30+08:00</td>\n",
       "      <td>POINT (103.66913 1.32557)</td>\n",
       "    </tr>\n",
       "    <tr>\n",
       "      <th>3</th>\n",
       "      <td>3</td>\n",
       "      <td>2022-05-27T13:59:30+08:00</td>\n",
       "      <td>POINT (103.67967 1.32651)</td>\n",
       "    </tr>\n",
       "    <tr>\n",
       "      <th>4</th>\n",
       "      <td>4</td>\n",
       "      <td>2022-05-27T13:59:30+08:00</td>\n",
       "      <td>POINT (103.67998 1.31483)</td>\n",
       "    </tr>\n",
       "    <tr>\n",
       "      <th>...</th>\n",
       "      <td>...</td>\n",
       "      <td>...</td>\n",
       "      <td>...</td>\n",
       "    </tr>\n",
       "    <tr>\n",
       "      <th>1017</th>\n",
       "      <td>1017</td>\n",
       "      <td>2022-05-27T13:59:30+08:00</td>\n",
       "      <td>POINT (103.98892 1.35764)</td>\n",
       "    </tr>\n",
       "    <tr>\n",
       "      <th>1018</th>\n",
       "      <td>1018</td>\n",
       "      <td>2022-05-27T13:59:30+08:00</td>\n",
       "      <td>POINT (103.98980 1.35884)</td>\n",
       "    </tr>\n",
       "    <tr>\n",
       "      <th>1019</th>\n",
       "      <td>1019</td>\n",
       "      <td>2022-05-27T13:59:30+08:00</td>\n",
       "      <td>POINT (103.98986 1.36000)</td>\n",
       "    </tr>\n",
       "    <tr>\n",
       "      <th>1020</th>\n",
       "      <td>1020</td>\n",
       "      <td>2022-05-27T13:59:30+08:00</td>\n",
       "      <td>POINT (103.98989 1.36000)</td>\n",
       "    </tr>\n",
       "    <tr>\n",
       "      <th>1021</th>\n",
       "      <td>1021</td>\n",
       "      <td>2022-05-27T13:59:30+08:00</td>\n",
       "      <td>POINT (103.98995 1.36000)</td>\n",
       "    </tr>\n",
       "  </tbody>\n",
       "</table>\n",
       "<p>1022 rows × 3 columns</p>\n",
       "</div>"
      ],
      "text/plain": [
       "      index                  timestamp                   geometry\n",
       "0         0  2022-05-27T13:59:30+08:00  POINT (103.62462 1.30000)\n",
       "1         1  2022-05-27T13:59:30+08:00  POINT (103.65803 1.31233)\n",
       "2         2  2022-05-27T13:59:30+08:00  POINT (103.66913 1.32557)\n",
       "3         3  2022-05-27T13:59:30+08:00  POINT (103.67967 1.32651)\n",
       "4         4  2022-05-27T13:59:30+08:00  POINT (103.67998 1.31483)\n",
       "...     ...                        ...                        ...\n",
       "1017   1017  2022-05-27T13:59:30+08:00  POINT (103.98892 1.35764)\n",
       "1018   1018  2022-05-27T13:59:30+08:00  POINT (103.98980 1.35884)\n",
       "1019   1019  2022-05-27T13:59:30+08:00  POINT (103.98986 1.36000)\n",
       "1020   1020  2022-05-27T13:59:30+08:00  POINT (103.98989 1.36000)\n",
       "1021   1021  2022-05-27T13:59:30+08:00  POINT (103.98995 1.36000)\n",
       "\n",
       "[1022 rows x 3 columns]"
      ]
     },
     "execution_count": 10,
     "metadata": {},
     "output_type": "execute_result"
    }
   ],
   "source": [
    "taxi_data"
   ]
  }
 ],
 "metadata": {
  "environment": {
   "kernel": "python3",
   "name": "tf2-gpu.2-8.m92",
   "type": "gcloud",
   "uri": "gcr.io/deeplearning-platform-release/tf2-gpu.2-8:m92"
  },
  "kernelspec": {
   "display_name": "Python 3",
   "language": "python",
   "name": "python3"
  },
  "language_info": {
   "codemirror_mode": {
    "name": "ipython",
    "version": 3
   },
   "file_extension": ".py",
   "mimetype": "text/x-python",
   "name": "python",
   "nbconvert_exporter": "python",
   "pygments_lexer": "ipython3",
   "version": "3.7.12"
  }
 },
 "nbformat": 4,
 "nbformat_minor": 5
}

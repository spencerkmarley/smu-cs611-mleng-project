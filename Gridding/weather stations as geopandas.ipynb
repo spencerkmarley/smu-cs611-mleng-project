{
 "cells": [
  {
   "cell_type": "code",
   "execution_count": 1,
   "metadata": {},
   "outputs": [],
   "source": [
    "import numpy as np\n",
    "import pandas as pd\n",
    "import geopandas as gpd\n",
    "from shapely import wkt"
   ]
  },
  {
   "cell_type": "code",
   "execution_count": 2,
   "metadata": {
    "scrolled": true
   },
   "outputs": [
    {
     "data": {
      "text/html": [
       "<div>\n",
       "<style scoped>\n",
       "    .dataframe tbody tr th:only-of-type {\n",
       "        vertical-align: middle;\n",
       "    }\n",
       "\n",
       "    .dataframe tbody tr th {\n",
       "        vertical-align: top;\n",
       "    }\n",
       "\n",
       "    .dataframe thead th {\n",
       "        text-align: right;\n",
       "    }\n",
       "</style>\n",
       "<table border=\"1\" class=\"dataframe\">\n",
       "  <thead>\n",
       "    <tr style=\"text-align: right;\">\n",
       "      <th></th>\n",
       "      <th>Unnamed: 0</th>\n",
       "      <th>device_id</th>\n",
       "      <th>latitude</th>\n",
       "      <th>longitude</th>\n",
       "    </tr>\n",
       "  </thead>\n",
       "  <tbody>\n",
       "    <tr>\n",
       "      <td>0</td>\n",
       "      <td>0</td>\n",
       "      <td>S105</td>\n",
       "      <td>1.45817</td>\n",
       "      <td>103.79525</td>\n",
       "    </tr>\n",
       "    <tr>\n",
       "      <td>1</td>\n",
       "      <td>1</td>\n",
       "      <td>S77</td>\n",
       "      <td>1.29370</td>\n",
       "      <td>103.81250</td>\n",
       "    </tr>\n",
       "    <tr>\n",
       "      <td>2</td>\n",
       "      <td>2</td>\n",
       "      <td>S55</td>\n",
       "      <td>1.38370</td>\n",
       "      <td>103.88600</td>\n",
       "    </tr>\n",
       "    <tr>\n",
       "      <td>3</td>\n",
       "      <td>3</td>\n",
       "      <td>S64</td>\n",
       "      <td>1.38240</td>\n",
       "      <td>103.76030</td>\n",
       "    </tr>\n",
       "    <tr>\n",
       "      <td>4</td>\n",
       "      <td>4</td>\n",
       "      <td>S90</td>\n",
       "      <td>1.31910</td>\n",
       "      <td>103.81910</td>\n",
       "    </tr>\n",
       "  </tbody>\n",
       "</table>\n",
       "</div>"
      ],
      "text/plain": [
       "   Unnamed: 0 device_id  latitude  longitude\n",
       "0           0      S105   1.45817  103.79525\n",
       "1           1       S77   1.29370  103.81250\n",
       "2           2       S55   1.38370  103.88600\n",
       "3           3       S64   1.38240  103.76030\n",
       "4           4       S90   1.31910  103.81910"
      ]
     },
     "execution_count": 2,
     "metadata": {},
     "output_type": "execute_result"
    }
   ],
   "source": [
    "## Can be from any source. Just create as a dataframe\n",
    "book1 = pd.read_csv('weather_stations.csv')\n",
    "book1.head()"
   ]
  },
  {
   "cell_type": "code",
   "execution_count": 3,
   "metadata": {},
   "outputs": [],
   "source": [
    "coord = list(zip(book1['longitude'], book1['latitude']))\n",
    "result = [f'POINT({str(i[0])} {str(i[1])})' for i in coord]\n",
    "stations = pd.DataFrame({'device_id': book1['device_id'],\n",
    "                         'Coordinates':result})\n",
    "\n",
    "# Convert to Geopandas df\n",
    "stations['geometry'] = stations.Coordinates.apply(wkt.loads)\n",
    "gdf = gpd.GeoDataFrame(stations, geometry='geometry')\n",
    "gdf.drop('Coordinates', inplace=True, axis=1)"
   ]
  },
  {
   "cell_type": "code",
   "execution_count": 4,
   "metadata": {},
   "outputs": [],
   "source": [
    "#Export to shapefile\n",
    "gdf.to_file('weather_stns/stations.shp')"
   ]
  },
  {
   "cell_type": "code",
   "execution_count": null,
   "metadata": {},
   "outputs": [],
   "source": []
  }
 ],
 "metadata": {
  "kernelspec": {
   "display_name": "Python 3",
   "language": "python",
   "name": "python3"
  },
  "language_info": {
   "codemirror_mode": {
    "name": "ipython",
    "version": 3
   },
   "file_extension": ".py",
   "mimetype": "text/x-python",
   "name": "python",
   "nbconvert_exporter": "python",
   "pygments_lexer": "ipython3",
   "version": "3.7.4"
  }
 },
 "nbformat": 4,
 "nbformat_minor": 2
}

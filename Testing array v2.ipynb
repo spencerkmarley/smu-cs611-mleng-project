{
 "cells": [
  {
   "cell_type": "markdown",
   "metadata": {},
   "source": [
    "## Libraries"
   ]
  },
  {
   "cell_type": "code",
   "execution_count": 1,
   "metadata": {},
   "outputs": [],
   "source": [
    "import requests\n",
    "import numpy as np\n",
    "import pandas as pd\n",
    "from matplotlib import pyplot as plt\n",
    "import seaborn as sns\n",
    "import itertools\n",
    "from datetime import date, timedelta\n",
    "from shapely import wkt\n",
    "from shapely.ops import nearest_points\n",
    "import geopandas as gpd\n",
    "import copy\n",
    "from tqdm import tqdm\n",
    "import joblib\n",
    "import re\n",
    "import math\n",
    "from collections import Counter"
   ]
  },
  {
   "cell_type": "markdown",
   "metadata": {},
   "source": [
    "## Loading DataFrames \n",
    "To change the naming convention lol"
   ]
  },
  {
   "cell_type": "code",
   "execution_count": 2,
   "metadata": {},
   "outputs": [],
   "source": [
    "month = \"11\"\n",
    "\n",
    "df_temp = pd.read_csv(f\"2019 weather data/{month}_df_temp.csv\")\n",
    "df_rain = pd.read_csv(f\"2019 weather data/{month}_df_rain.csv\")\n",
    "df_humid = pd.read_csv(f\"2019 weather data/{month}_df_humid.csv\")\n",
    "\n",
    "df_temp_stn = pd.read_csv(f\"2019 weather data/{month}_df_temp_stn.csv\")\n",
    "df_rain_stn = pd.read_csv(f\"2019 weather data/{month}_df_rain_stn.csv\")\n",
    "df_humid_stn = pd.read_csv(f\"2019 weather data/{month}_df_humid_stn.csv\")\n",
    "\n",
    "df = joblib.load(f\"2019 taxi avail/{month}_taxi_avail.joblib\")"
   ]
  },
  {
   "cell_type": "markdown",
   "metadata": {},
   "source": [
    "### Read grid shape file"
   ]
  },
  {
   "cell_type": "code",
   "execution_count": 3,
   "metadata": {},
   "outputs": [
    {
     "data": {
      "text/html": [
       "<div>\n",
       "<style scoped>\n",
       "    .dataframe tbody tr th:only-of-type {\n",
       "        vertical-align: middle;\n",
       "    }\n",
       "\n",
       "    .dataframe tbody tr th {\n",
       "        vertical-align: top;\n",
       "    }\n",
       "\n",
       "    .dataframe thead th {\n",
       "        text-align: right;\n",
       "    }\n",
       "</style>\n",
       "<table border=\"1\" class=\"dataframe\">\n",
       "  <thead>\n",
       "    <tr style=\"text-align: right;\">\n",
       "      <th></th>\n",
       "      <th>grid_num</th>\n",
       "      <th>geometry</th>\n",
       "      <th>centroid</th>\n",
       "    </tr>\n",
       "  </thead>\n",
       "  <tbody>\n",
       "    <tr>\n",
       "      <th>0</th>\n",
       "      <td>1.0</td>\n",
       "      <td>POLYGON ((103.60000 1.47500, 103.61000 1.47500...</td>\n",
       "      <td>POINT (103.60500 1.47006)</td>\n",
       "    </tr>\n",
       "    <tr>\n",
       "      <th>1</th>\n",
       "      <td>2.0</td>\n",
       "      <td>POLYGON ((103.61000 1.47500, 103.62000 1.47500...</td>\n",
       "      <td>POINT (103.61500 1.47006)</td>\n",
       "    </tr>\n",
       "    <tr>\n",
       "      <th>2</th>\n",
       "      <td>3.0</td>\n",
       "      <td>POLYGON ((103.62000 1.47500, 103.63000 1.47500...</td>\n",
       "      <td>POINT (103.62500 1.47006)</td>\n",
       "    </tr>\n",
       "    <tr>\n",
       "      <th>3</th>\n",
       "      <td>4.0</td>\n",
       "      <td>POLYGON ((103.63000 1.47500, 103.64000 1.47500...</td>\n",
       "      <td>POINT (103.63500 1.47006)</td>\n",
       "    </tr>\n",
       "    <tr>\n",
       "      <th>4</th>\n",
       "      <td>5.0</td>\n",
       "      <td>POLYGON ((103.64000 1.47500, 103.65000 1.47500...</td>\n",
       "      <td>POINT (103.64500 1.47006)</td>\n",
       "    </tr>\n",
       "  </tbody>\n",
       "</table>\n",
       "</div>"
      ],
      "text/plain": [
       "   grid_num                                           geometry  \\\n",
       "0       1.0  POLYGON ((103.60000 1.47500, 103.61000 1.47500...   \n",
       "1       2.0  POLYGON ((103.61000 1.47500, 103.62000 1.47500...   \n",
       "2       3.0  POLYGON ((103.62000 1.47500, 103.63000 1.47500...   \n",
       "3       4.0  POLYGON ((103.63000 1.47500, 103.64000 1.47500...   \n",
       "4       5.0  POLYGON ((103.64000 1.47500, 103.65000 1.47500...   \n",
       "\n",
       "                    centroid  \n",
       "0  POINT (103.60500 1.47006)  \n",
       "1  POINT (103.61500 1.47006)  \n",
       "2  POINT (103.62500 1.47006)  \n",
       "3  POINT (103.63500 1.47006)  \n",
       "4  POINT (103.64500 1.47006)  "
      ]
     },
     "execution_count": 3,
     "metadata": {},
     "output_type": "execute_result"
    }
   ],
   "source": [
    "# Read SG grid shape file - 47*27\n",
    "grids = gpd.read_file('SG_grid/SG_grids.shp')\n",
    "grids['centroid'] = grids['geometry'].apply(lambda x: x.centroid) # grids get centroid\n",
    "grids.head()"
   ]
  },
  {
   "cell_type": "markdown",
   "metadata": {},
   "source": [
    "### Functions for whatever"
   ]
  },
  {
   "cell_type": "code",
   "execution_count": 4,
   "metadata": {},
   "outputs": [],
   "source": [
    "def convert_gpd(df):\n",
    "    coord = list(zip(df['longitude'], df['latitude']))\n",
    "    iterim = df\n",
    "    iterim[\"Coordinates\"] = [f'POINT({str(i[0])} {str(i[1])})' for i in coord]\n",
    "    \n",
    "    iterim['geometry'] = iterim.Coordinates.apply(wkt.loads)\n",
    "    gdf_stn = gpd.GeoDataFrame(iterim, geometry='geometry')\n",
    "    gdf_stn.drop('Coordinates', inplace=True, axis=1)\n",
    "    gdf_stn.reset_index(inplace=True)\n",
    "    \n",
    "    return gdf_stn\n",
    "\n",
    "def near(point, gdf, pts):\n",
    "    # find the nearest point and return the corresponding Place value\n",
    "    nearest = gdf.geometry == nearest_points(point, pts)[1]\n",
    "    return gdf[nearest].station_id.to_numpy()[0]\n",
    "\n",
    "## Get taxi avail data\n",
    "def get_taxi_data(query:str):\n",
    "    '''Returns the coordinates of all taxis via the LTA API endpoint for a given datetime string\n",
    "    '''\n",
    "    URL = \"https://api.data.gov.sg/v1/transport/taxi-availability\"\n",
    "    params={'date_time':query}\n",
    "    r=requests.get(URL,params=params)\n",
    "    return r.json()\n",
    "\n",
    "def taxi_convert_gpd(taxi_data):\n",
    "    taxi_list = taxi_data['features'][0]['geometry'][\"coordinates\"]\n",
    "    df2 = pd.DataFrame({'timestamp': [query for x in range(len(taxi_list))]})\n",
    "    df2[\"Coordinates\"] = [f'POINT({str(i[0])} {str(i[1])})' for i in taxi_list]\n",
    "\n",
    "    df2['geometry'] = df2.Coordinates.apply(wkt.loads)\n",
    "    gdf2 = gpd.GeoDataFrame(df2, geometry='geometry')\n",
    "    gdf2.drop('Coordinates', inplace=True, axis=1)\n",
    "    gdf2.reset_index(inplace=True)\n",
    "    return gdf2"
   ]
  },
  {
   "cell_type": "markdown",
   "metadata": {},
   "source": [
    "## Merging all data to get that decent df for modelling"
   ]
  },
  {
   "cell_type": "code",
   "execution_count": 6,
   "metadata": {},
   "outputs": [
    {
     "name": "stderr",
     "output_type": "stream",
     "text": [
      "100%|████████████████████████████████████████████████████████████████████████████████| 415/415 [47:42<00:00,  6.90s/it]\n"
     ]
    }
   ],
   "source": [
    "import warnings\n",
    "warnings.filterwarnings('ignore')\n",
    "\n",
    "# For each timestamp, get weather data for each grid\n",
    "#  all_queries = df_temp['timestamp'].unique()\n",
    "all_queries = df_temp['timestamp'].unique()\n",
    "\n",
    "final_df = pd.DataFrame()\n",
    "\n",
    "for timestamp in tqdm(all_queries):\n",
    "    ## GET WEATHER DATA\n",
    "    # subset for just 1 timestamp (FOR RAIN)\n",
    "    ss_rain_val = df_rain[df_rain[\"timestamp\"] == timestamp]\n",
    "    ss_rain_stn = df_rain_stn[df_rain_stn['timestamp'] == timestamp]\n",
    "    \n",
    "    gdf_rain_stn = convert_gpd(ss_rain_stn)\n",
    "    ## Getting nearest rain station for each grid\n",
    "    pts3 = gdf_rain_stn.geometry.unary_union\n",
    "    grids_final = copy.deepcopy(grids)\n",
    "    grids_final['station_id'] = grids_final.apply(lambda row: near(row.geometry, gdf_rain_stn, pts3), axis=1)\n",
    "    grids_final = grids_final.merge(ss_rain_val, on = ['station_id'], how='inner')\n",
    "    grids_final.rename(columns = {'value':'rainfall'}, inplace = True)\n",
    "    grids_final = grids_final.drop(['station_id', 'timestamp'], axis=1)\n",
    "    \n",
    "    #############################################\n",
    "    # subset for just 1 timestamp (FOR TEMP)\n",
    "    ss_temp_val = df_temp[df_temp[\"timestamp\"] == timestamp]\n",
    "    ss_temp_stn = df_temp_stn[df_temp_stn['timestamp'] == timestamp]\n",
    "    \n",
    "    gdf_temp_stn = convert_gpd(ss_temp_stn)\n",
    "    ## Getting nearest rain station for each grid\n",
    "    pts3 = gdf_temp_stn.geometry.unary_union\n",
    "    grids_final['station_id'] = grids_final.apply(lambda row: near(row.geometry, gdf_temp_stn, pts3), axis=1)\n",
    "    grids_final = grids_final.merge(ss_temp_val, on = ['station_id'], how='inner')\n",
    "    grids_final.rename(columns = {'value':'air_temp'}, inplace = True)\n",
    "    grids_final = grids_final.drop(['station_id', 'timestamp'], axis=1)\n",
    "    \n",
    "    #############################################\n",
    "    # subset for just 1 timestamp (FOR HUMID)\n",
    "    ss_humid_val = df_humid[df_humid[\"timestamp\"] == timestamp]\n",
    "    ss_humid_stn = df_humid_stn[df_humid_stn['timestamp'] == timestamp]\n",
    "    \n",
    "    gdf_humid_stn = convert_gpd(ss_humid_stn)\n",
    "    ## Getting nearest rain station for each grid\n",
    "    pts3 = gdf_humid_stn.geometry.unary_union\n",
    "    grids_final['station_id'] = grids_final.apply(lambda row: near(row.geometry, gdf_humid_stn, pts3), axis=1)\n",
    "    grids_final = grids_final.merge(ss_humid_val, on = ['station_id'], how='inner')\n",
    "    grids_final.rename(columns = {'value':'humidity'}, inplace = True)\n",
    "    grids_final = grids_final.drop(['station_id'], axis=1)\n",
    "    \n",
    "    \n",
    "    ## GET TAXI AVAIL DATA\n",
    "    #taxi_data=get_taxi_data(query=timestamp)\n",
    "    try:\n",
    "        one_list = df[timestamp]['features'][0]['geometry']['coordinates']\n",
    "\n",
    "        ## Getting list of grid num\n",
    "        test = [math.ceil((i[0]-103.6)/0.01) + math.ceil(27 - (i[1] -1.208)/0.009888890000000039)*45 for i in one_list]\n",
    "\n",
    "        # getting dictionary of items\n",
    "        c = Counter(test)\n",
    "\n",
    "        # Getting taxi_count for relevant grid_num\n",
    "        df_timestamp = pd.DataFrame({'timestamp':[timestamp for x in range(len(c))] ,'grid_num': list(c.keys()), \n",
    "                                     'taxi_count': [x[1] for x in list(c.items())]})\n",
    "\n",
    "        grids_final = pd.merge(grids_final, df_timestamp, how='left')\n",
    "\n",
    "\n",
    "        # APPEND DATA FROM THIS TIMESTAMP TO final_df\n",
    "        final_df = pd.concat([final_df, grids_final])\n",
    "    except:\n",
    "        pass"
   ]
  },
  {
   "cell_type": "code",
   "execution_count": 7,
   "metadata": {},
   "outputs": [
    {
     "data": {
      "text/plain": [
       "['11_fulldata_2069_2484.joblib']"
      ]
     },
     "execution_count": 7,
     "metadata": {},
     "output_type": "execute_result"
    }
   ],
   "source": [
    "joblib.dump(final_df, f\"{month}_fulldata_2069_2484.joblib\")"
   ]
  },
  {
   "cell_type": "code",
   "execution_count": null,
   "metadata": {},
   "outputs": [],
   "source": []
  },
  {
   "cell_type": "code",
   "execution_count": null,
   "metadata": {},
   "outputs": [],
   "source": []
  },
  {
   "cell_type": "code",
   "execution_count": null,
   "metadata": {},
   "outputs": [],
   "source": []
  },
  {
   "cell_type": "markdown",
   "metadata": {},
   "source": [
    "## Ignore anything below this"
   ]
  },
  {
   "cell_type": "code",
   "execution_count": 17,
   "metadata": {},
   "outputs": [],
   "source": [
    "#02,04,12, part 11\n",
    "\n",
    "df = joblib.load(\"monthly_data/12_fulldata.joblib\")\n",
    "#df_full = pd.DataFrame()\n",
    "df_full = pd.concat([df_full, df])"
   ]
  },
  {
   "cell_type": "code",
   "execution_count": 18,
   "metadata": {},
   "outputs": [],
   "source": [
    "df_full.to_csv(\"02_04_12_part11.csv\")"
   ]
  },
  {
   "cell_type": "code",
   "execution_count": null,
   "metadata": {},
   "outputs": [],
   "source": []
  },
  {
   "cell_type": "code",
   "execution_count": 73,
   "metadata": {},
   "outputs": [],
   "source": [
    "# testing out 1 timestamp\n",
    "one_list = df['2019-01-01T00:00:00']['features'][0]['geometry']['coordinates']\n",
    "\n",
    "## Getting list of grid num\n",
    "test = [math.ceil((i[0]-103.6)/0.01) + math.ceil(27 - (i[1] -1.208)/0.009888890000000039)*45 for i in one_list]\n",
    "\n",
    "# getting dictionary of items\n",
    "c = Counter(test)"
   ]
  },
  {
   "cell_type": "code",
   "execution_count": 72,
   "metadata": {},
   "outputs": [
    {
     "data": {
      "text/html": [
       "<div>\n",
       "<style scoped>\n",
       "    .dataframe tbody tr th:only-of-type {\n",
       "        vertical-align: middle;\n",
       "    }\n",
       "\n",
       "    .dataframe tbody tr th {\n",
       "        vertical-align: top;\n",
       "    }\n",
       "\n",
       "    .dataframe thead th {\n",
       "        text-align: right;\n",
       "    }\n",
       "</style>\n",
       "<table border=\"1\" class=\"dataframe\">\n",
       "  <thead>\n",
       "    <tr style=\"text-align: right;\">\n",
       "      <th></th>\n",
       "      <th>grid_num</th>\n",
       "      <th>taxi_count</th>\n",
       "    </tr>\n",
       "  </thead>\n",
       "  <tbody>\n",
       "    <tr>\n",
       "      <td>0</td>\n",
       "      <td>768</td>\n",
       "      <td>1</td>\n",
       "    </tr>\n",
       "    <tr>\n",
       "      <td>1</td>\n",
       "      <td>769</td>\n",
       "      <td>1</td>\n",
       "    </tr>\n",
       "    <tr>\n",
       "      <td>2</td>\n",
       "      <td>814</td>\n",
       "      <td>2</td>\n",
       "    </tr>\n",
       "    <tr>\n",
       "      <td>3</td>\n",
       "      <td>680</td>\n",
       "      <td>1</td>\n",
       "    </tr>\n",
       "    <tr>\n",
       "      <td>4</td>\n",
       "      <td>770</td>\n",
       "      <td>1</td>\n",
       "    </tr>\n",
       "    <tr>\n",
       "      <td>...</td>\n",
       "      <td>...</td>\n",
       "      <td>...</td>\n",
       "    </tr>\n",
       "    <tr>\n",
       "      <td>338</td>\n",
       "      <td>579</td>\n",
       "      <td>118</td>\n",
       "    </tr>\n",
       "    <tr>\n",
       "      <td>339</td>\n",
       "      <td>580</td>\n",
       "      <td>19</td>\n",
       "    </tr>\n",
       "    <tr>\n",
       "      <td>340</td>\n",
       "      <td>445</td>\n",
       "      <td>1</td>\n",
       "    </tr>\n",
       "    <tr>\n",
       "      <td>341</td>\n",
       "      <td>490</td>\n",
       "      <td>1</td>\n",
       "    </tr>\n",
       "    <tr>\n",
       "      <td>342</td>\n",
       "      <td>536</td>\n",
       "      <td>3</td>\n",
       "    </tr>\n",
       "  </tbody>\n",
       "</table>\n",
       "<p>343 rows × 2 columns</p>\n",
       "</div>"
      ],
      "text/plain": [
       "     grid_num  taxi_count\n",
       "0         768           1\n",
       "1         769           1\n",
       "2         814           2\n",
       "3         680           1\n",
       "4         770           1\n",
       "..        ...         ...\n",
       "338       579         118\n",
       "339       580          19\n",
       "340       445           1\n",
       "341       490           1\n",
       "342       536           3\n",
       "\n",
       "[343 rows x 2 columns]"
      ]
     },
     "execution_count": 72,
     "metadata": {},
     "output_type": "execute_result"
    }
   ],
   "source": [
    "# Getting taxi_count for relevant grid_num\n",
    "df_timestamp = pd.DataFrame({'grid_num': list(c.keys()), 'taxi_count': [x[1] for x in list(c.items())]})\n",
    "df_timestamp"
   ]
  },
  {
   "cell_type": "code",
   "execution_count": 78,
   "metadata": {},
   "outputs": [
    {
     "data": {
      "text/plain": [
       "pandas.core.frame.DataFrame"
      ]
     },
     "execution_count": 78,
     "metadata": {},
     "output_type": "execute_result"
    }
   ],
   "source": [
    "full_df = pd.DataFrame()\n",
    "type(full_df)"
   ]
  },
  {
   "cell_type": "code",
   "execution_count": 80,
   "metadata": {},
   "outputs": [
    {
     "name": "stderr",
     "output_type": "stream",
     "text": [
      "100%|██████████████████████████████████████████████████████████████████████████████| 2976/2976 [00:45<00:00, 65.00it/s]\n"
     ]
    }
   ],
   "source": [
    "## testing for loop through all keys:\n",
    "full_df = pd.DataFrame()\n",
    "\n",
    "for key in tqdm(df.keys()):\n",
    "    one_list = df[key]['features'][0]['geometry']['coordinates']\n",
    "\n",
    "    ## Getting list of grid num\n",
    "    test = [math.ceil((i[0]-103.6)/0.01) + math.ceil(27 - (i[1] -1.208)/0.009888890000000039)*45 for i in one_list]\n",
    "\n",
    "    # getting dictionary of items\n",
    "    c = Counter(test)\n",
    "    \n",
    "    # Getting taxi_count for relevant grid_num\n",
    "    df_timestamp = pd.DataFrame({'timestamp':[key for x in range(len(c))] ,'grid_num': list(c.keys()), \n",
    "                                 'taxi_count': [x[1] for x in list(c.items())]})\n",
    "    \n",
    "    full_df = pd.concat([full_df, df_timestamp])"
   ]
  },
  {
   "cell_type": "code",
   "execution_count": 81,
   "metadata": {},
   "outputs": [
    {
     "data": {
      "text/plain": [
       "1030219"
      ]
     },
     "execution_count": 81,
     "metadata": {},
     "output_type": "execute_result"
    }
   ],
   "source": [
    "len(full_df)"
   ]
  },
  {
   "cell_type": "code",
   "execution_count": 82,
   "metadata": {},
   "outputs": [
    {
     "data": {
      "text/html": [
       "<div>\n",
       "<style scoped>\n",
       "    .dataframe tbody tr th:only-of-type {\n",
       "        vertical-align: middle;\n",
       "    }\n",
       "\n",
       "    .dataframe tbody tr th {\n",
       "        vertical-align: top;\n",
       "    }\n",
       "\n",
       "    .dataframe thead th {\n",
       "        text-align: right;\n",
       "    }\n",
       "</style>\n",
       "<table border=\"1\" class=\"dataframe\">\n",
       "  <thead>\n",
       "    <tr style=\"text-align: right;\">\n",
       "      <th></th>\n",
       "      <th>timestamp</th>\n",
       "      <th>grid_num</th>\n",
       "      <th>taxi_count</th>\n",
       "    </tr>\n",
       "  </thead>\n",
       "  <tbody>\n",
       "    <tr>\n",
       "      <td>0</td>\n",
       "      <td>2019-01-01T00:00:00</td>\n",
       "      <td>768.0</td>\n",
       "      <td>1.0</td>\n",
       "    </tr>\n",
       "    <tr>\n",
       "      <td>1</td>\n",
       "      <td>2019-01-01T00:00:00</td>\n",
       "      <td>769.0</td>\n",
       "      <td>1.0</td>\n",
       "    </tr>\n",
       "    <tr>\n",
       "      <td>2</td>\n",
       "      <td>2019-01-01T00:00:00</td>\n",
       "      <td>814.0</td>\n",
       "      <td>2.0</td>\n",
       "    </tr>\n",
       "    <tr>\n",
       "      <td>3</td>\n",
       "      <td>2019-01-01T00:00:00</td>\n",
       "      <td>680.0</td>\n",
       "      <td>1.0</td>\n",
       "    </tr>\n",
       "    <tr>\n",
       "      <td>4</td>\n",
       "      <td>2019-01-01T00:00:00</td>\n",
       "      <td>770.0</td>\n",
       "      <td>1.0</td>\n",
       "    </tr>\n",
       "  </tbody>\n",
       "</table>\n",
       "</div>"
      ],
      "text/plain": [
       "             timestamp  grid_num  taxi_count\n",
       "0  2019-01-01T00:00:00     768.0         1.0\n",
       "1  2019-01-01T00:00:00     769.0         1.0\n",
       "2  2019-01-01T00:00:00     814.0         2.0\n",
       "3  2019-01-01T00:00:00     680.0         1.0\n",
       "4  2019-01-01T00:00:00     770.0         1.0"
      ]
     },
     "execution_count": 82,
     "metadata": {},
     "output_type": "execute_result"
    }
   ],
   "source": [
    "full_df.head()"
   ]
  },
  {
   "cell_type": "code",
   "execution_count": null,
   "metadata": {},
   "outputs": [],
   "source": []
  }
 ],
 "metadata": {
  "kernelspec": {
   "display_name": "Python 3",
   "language": "python",
   "name": "python3"
  },
  "language_info": {
   "codemirror_mode": {
    "name": "ipython",
    "version": 3
   },
   "file_extension": ".py",
   "mimetype": "text/x-python",
   "name": "python",
   "nbconvert_exporter": "python",
   "pygments_lexer": "ipython3",
   "version": "3.7.4"
  }
 },
 "nbformat": 4,
 "nbformat_minor": 2
}
